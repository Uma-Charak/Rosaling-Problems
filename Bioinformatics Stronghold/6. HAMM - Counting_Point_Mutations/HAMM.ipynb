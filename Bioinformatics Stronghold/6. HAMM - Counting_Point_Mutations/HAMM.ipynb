{
 "cells": [
  {
   "cell_type": "markdown",
   "id": "da65eb1c",
   "metadata": {},
   "source": [
    "### Counting Point Mutations\n",
    "**Problem:**\n",
    "Given two strings ***s*** and ***t*** of equal length, the Hamming distance between ***s*** and ***t***, denoted ***d<sub>H</sub>(s,t)***, is the number of corresponding symbols that differ in ***s*** and ***t***. See Figure:\n",
    "\n",
    "![alt text](Hamming_distance.png)\n",
    "**Figure:** The Hamming distance between these two strings is 7. Mismatched symbols are colored red.\n",
    "\n",
    "**Given:** Two DNA strings ***s*** and ***t*** of equal length (not exceeding 1 kbp).\n",
    "\n",
    "**Return:** The Hamming distance ***d<sub>H</sub>(s,t)***."
   ]
  },
  {
   "cell_type": "code",
   "execution_count": 11,
   "id": "710f6600",
   "metadata": {},
   "outputs": [],
   "source": [
    "# Function Definition\n",
    "\n",
    "def hammingDistance(filePath):\n",
    "    '''\n",
    "    Calculates the Hamming distance (number of point mutations) between two DNA strings of equal length.\n",
    "    '''\n",
    "    \n",
    "    hamming_dist = 0\n",
    "    \n",
    "    with open(file_path, 'r') as file:\n",
    "        s = file.readline().strip()\n",
    "        t = file.readline().strip()\n",
    "\n",
    "    for i in range(len(s)):\n",
    "        if s[i] != t[i]:\n",
    "            hamming_dist += 1\n",
    "    \n",
    "    return hamming_dist"
   ]
  },
  {
   "cell_type": "code",
   "execution_count": 15,
   "id": "22f74581",
   "metadata": {},
   "outputs": [],
   "source": [
    "# File path to input data\n",
    "\n",
    "file_path = 'problem6_input.txt'"
   ]
  },
  {
   "cell_type": "code",
   "execution_count": 16,
   "id": "39f60f09",
   "metadata": {},
   "outputs": [
    {
     "name": "stdout",
     "output_type": "stream",
     "text": [
      "498\n"
     ]
    }
   ],
   "source": [
    "# Call the function and print the result\n",
    "print(hammingDistance(file_path))"
   ]
  }
 ],
 "metadata": {
  "kernelspec": {
   "display_name": "Python 3 (ipykernel)",
   "language": "python",
   "name": "python3"
  },
  "language_info": {
   "codemirror_mode": {
    "name": "ipython",
    "version": 3
   },
   "file_extension": ".py",
   "mimetype": "text/x-python",
   "name": "python",
   "nbconvert_exporter": "python",
   "pygments_lexer": "ipython3",
   "version": "3.11.5"
  }
 },
 "nbformat": 4,
 "nbformat_minor": 5
}
