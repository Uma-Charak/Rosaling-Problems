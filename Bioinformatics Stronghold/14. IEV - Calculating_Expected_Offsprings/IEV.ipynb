{
 "cells": [
  {
   "cell_type": "markdown",
   "metadata": {},
   "source": [
    "### Calculating Expected Offsprings\n",
    "\n",
    "**Problem:**\n",
    "For a random variable ***X*** taking integer values between 1 and n, the expected value of ***X*** is ***E(X) = $\\sum_{k=1}^{n} k×Pr(X=k)$***. The expected value offers us a way of taking the long-term average of a random variable over a large number of trials.\n",
    "\n",
    "As a motivating example, let ***X*** be the number on a six-sided die. Over a large number of rolls, we should expect to obtain an average of ***3.5*** on the die (even though it's not possible to roll a ***3.5***). The formula for expected value confirms that ***E(X) = $\\sum_{k=1}^{6} k×Pr(X=k)$ = 3.5***.\n",
    "\n",
    "More generally, a random variable for which every one of a number of equally spaced outcomes has the same probability is called a uniform random variable (in the die example, this \"equal spacing\" is equal to 1). We can generalize our die example to find that if ***X*** is a uniform random variable with minimum possible value a and maximum possible value b, then ***E(X)=$\\frac{a+b}{2}$***. You may also wish to verify that for the dice example, if Y is the random variable associated with the outcome of a second die roll, then ***E(X+Y)=7***.\n",
    "\n",
    "**Given:** Six non-negative integers, each of which does not exceed 20,000. The integers correspond to the number of couples in a population possessing each genotype pairing for a given factor. In order, the six given integers represent the number of couples having the following genotypes:\n",
    "\n",
    "AA-AA\n",
    "\n",
    "AA-Aa\n",
    "\n",
    "AA-aa\n",
    "\n",
    "Aa-Aa\n",
    "\n",
    "Aa-aa\n",
    "\n",
    "aa-aa\n",
    "\n",
    "**Return:** The expected number of offspring displaying the dominant phenotype in the next generation, under the assumption that every couple has exactly two offspring."
   ]
  },
  {
   "cell_type": "code",
   "execution_count": null,
   "metadata": {},
   "outputs": [],
   "source": []
  },
  {
   "cell_type": "code",
   "execution_count": 10,
   "metadata": {
    "execution": {
     "iopub.execute_input": "2024-11-13T08:15:42.494666Z",
     "iopub.status.busy": "2024-11-13T08:15:42.494037Z",
     "iopub.status.idle": "2024-11-13T08:15:42.500083Z",
     "shell.execute_reply": "2024-11-13T08:15:42.498730Z",
     "shell.execute_reply.started": "2024-11-13T08:15:42.494610Z"
    }
   },
   "outputs": [],
   "source": [
    "# File path for input integer file\n",
    "\n",
    "filePath = 'problem14_input.txt'"
   ]
  },
  {
   "cell_type": "code",
   "execution_count": 11,
   "metadata": {
    "execution": {
     "iopub.execute_input": "2024-11-13T08:23:20.115849Z",
     "iopub.status.busy": "2024-11-13T08:23:20.115390Z",
     "iopub.status.idle": "2024-11-13T08:23:20.124872Z",
     "shell.execute_reply": "2024-11-13T08:23:20.123617Z",
     "shell.execute_reply.started": "2024-11-13T08:23:20.115806Z"
    }
   },
   "outputs": [],
   "source": [
    "# Extract integers into list\n",
    "\n",
    "couple_sample_list = []\n",
    "with open(filePath, 'r') as file:\n",
    "    for line in file:\n",
    "        couple_sample_list = list(map(int, line.strip().split()))"
   ]
  },
  {
   "cell_type": "code",
   "execution_count": 6,
   "metadata": {
    "execution": {
     "iopub.execute_input": "2024-11-13T09:15:37.553699Z",
     "iopub.status.busy": "2024-11-13T09:15:37.552889Z",
     "iopub.status.idle": "2024-11-13T09:15:37.562966Z",
     "shell.execute_reply": "2024-11-13T09:15:37.561326Z",
     "shell.execute_reply.started": "2024-11-13T09:15:37.553624Z"
    }
   },
   "outputs": [],
   "source": [
    "# Function Definition\n",
    "\n",
    "def expected_offspring(couples_list):\n",
    "    dominant_probabilities = [1, 1, 1, 0.75, 0.25, 0]\n",
    "    expected_value = 0\n",
    "\n",
    "    for i in range(len(couples_list)):\n",
    "        expected_offspring_value = 2*dominant_probabilities[i]*couples_list[i]\n",
    "        expected_value += expected_offspring_value\n",
    "\n",
    "    return expected_value        "
   ]
  },
  {
   "cell_type": "code",
   "execution_count": 12,
   "metadata": {
    "execution": {
     "iopub.execute_input": "2024-11-13T08:29:40.142539Z",
     "iopub.status.busy": "2024-11-13T08:29:40.142106Z",
     "iopub.status.idle": "2024-11-13T08:29:40.150537Z",
     "shell.execute_reply": "2024-11-13T08:29:40.149269Z",
     "shell.execute_reply.started": "2024-11-13T08:29:40.142499Z"
    }
   },
   "outputs": [
    {
     "name": "stdout",
     "output_type": "stream",
     "text": [
      "137133.0\n"
     ]
    }
   ],
   "source": [
    "# Call function to output expected value\n",
    "\n",
    "print(expected_offspring(couple_sample_list))"
   ]
  }
 ],
 "metadata": {
  "kaggle": {
   "accelerator": "none",
   "dataSources": [
    {
     "datasetId": 6075354,
     "sourceId": 9892092,
     "sourceType": "datasetVersion"
    },
    {
     "datasetId": 6075463,
     "sourceId": 9892228,
     "sourceType": "datasetVersion"
    },
    {
     "datasetId": 6075816,
     "sourceId": 9892690,
     "sourceType": "datasetVersion"
    },
    {
     "datasetId": 6075854,
     "sourceId": 9892733,
     "sourceType": "datasetVersion"
    },
    {
     "datasetId": 6075879,
     "sourceId": 9892766,
     "sourceType": "datasetVersion"
    },
    {
     "datasetId": 6075938,
     "sourceId": 9892831,
     "sourceType": "datasetVersion"
    }
   ],
   "dockerImageVersionId": 30786,
   "isGpuEnabled": false,
   "isInternetEnabled": true,
   "language": "python",
   "sourceType": "notebook"
  },
  "kernelspec": {
   "display_name": "Python 3 (ipykernel)",
   "language": "python",
   "name": "python3"
  },
  "language_info": {
   "codemirror_mode": {
    "name": "ipython",
    "version": 3
   },
   "file_extension": ".py",
   "mimetype": "text/x-python",
   "name": "python",
   "nbconvert_exporter": "python",
   "pygments_lexer": "ipython3",
   "version": "3.11.5"
  }
 },
 "nbformat": 4,
 "nbformat_minor": 4
}
