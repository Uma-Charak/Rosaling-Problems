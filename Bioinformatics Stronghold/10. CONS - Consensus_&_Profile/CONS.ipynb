{
 "cells": [
  {
   "cell_type": "code",
   "execution_count": 1,
   "metadata": {
    "_cell_guid": "b1076dfc-b9ad-4769-8c92-a6c4dae69d19",
    "_uuid": "8f2839f25d086af736a60e9eeb907d3b93b6e0e5",
    "execution": {
     "iopub.execute_input": "2024-11-04T04:06:42.854977Z",
     "iopub.status.busy": "2024-11-04T04:06:42.854522Z",
     "iopub.status.idle": "2024-11-04T04:06:44.169747Z",
     "shell.execute_reply": "2024-11-04T04:06:44.168431Z",
     "shell.execute_reply.started": "2024-11-04T04:06:42.854933Z"
    }
   },
   "outputs": [
    {
     "name": "stdout",
     "output_type": "stream",
     "text": [
      "/kaggle/input/consensus-sample/cons_sample.txt\n"
     ]
    }
   ],
   "source": [
    "# Import relevant libraries\n",
    "import numpy as np"
   ]
  },
  {
   "cell_type": "code",
   "execution_count": 15,
   "metadata": {
    "execution": {
     "iopub.execute_input": "2024-10-17T07:11:53.203766Z",
     "iopub.status.busy": "2024-10-17T07:11:53.202660Z",
     "iopub.status.idle": "2024-10-17T07:11:53.241920Z",
     "shell.execute_reply": "2024-10-17T07:11:53.240427Z",
     "shell.execute_reply.started": "2024-10-17T07:11:53.203696Z"
    }
   },
   "outputs": [
    {
     "ename": "IndexError",
     "evalue": "string index out of range",
     "output_type": "error",
     "traceback": [
      "\u001b[0;31m---------------------------------------------------------------------------\u001b[0m",
      "\u001b[0;31mIndexError\u001b[0m                                Traceback (most recent call last)",
      "Cell \u001b[0;32mIn[15], line 4\u001b[0m\n\u001b[1;32m      2\u001b[0m \u001b[38;5;28;01mfor\u001b[39;00m j \u001b[38;5;129;01min\u001b[39;00m \u001b[38;5;28mrange\u001b[39m(\u001b[38;5;28mlen\u001b[39m(sequence_records_list)):\n\u001b[1;32m      3\u001b[0m     \u001b[38;5;28;01mfor\u001b[39;00m sequence \u001b[38;5;129;01min\u001b[39;00m records\u001b[38;5;241m.\u001b[39mseq:\n\u001b[0;32m----> 4\u001b[0m         \u001b[38;5;28;01mif\u001b[39;00m \u001b[43msequence\u001b[49m\u001b[43m[\u001b[49m\u001b[43mj\u001b[49m\u001b[43m]\u001b[49m \u001b[38;5;241m==\u001b[39m \u001b[38;5;124m'\u001b[39m\u001b[38;5;124mA\u001b[39m\u001b[38;5;124m'\u001b[39m:\n\u001b[1;32m      5\u001b[0m             profile_matrix[\u001b[38;5;241m0\u001b[39m][j] \u001b[38;5;241m+\u001b[39m\u001b[38;5;241m=\u001b[39m \u001b[38;5;241m1\u001b[39m\n\u001b[1;32m      6\u001b[0m         \u001b[38;5;28;01melse\u001b[39;00m:\n",
      "\u001b[0;31mIndexError\u001b[0m: string index out of range"
     ]
    }
   ],
   "source": [
    "## ERROR IN THIS CODE\n",
    "\n",
    "# for records in sequence_records_list:\n",
    "#     for j in range(len(sequence_records_list)):\n",
    "#         for sequence in records.seq:\n",
    "#             if sequence[j] == 'A':\n",
    "#                 profile_matrix[0][j] += 1\n",
    "#             else:\n",
    "#                 pass\n",
    "# print(profile_matrix)"
   ]
  },
  {
   "cell_type": "markdown",
   "metadata": {},
   "source": [
    "The issue in your code arises from how you are iterating over the sequences and positions in the for loop. Specifically, you're trying to update the profile matrix based on the count of 'A's at each position in each sequence, but the loops aren't structured correctly for this task.\n",
    "\n",
    "Let’s break it down:\n",
    "\n",
    "**Problem Points:**\n",
    "1. Wrong Loop Order:\n",
    "You are using two for loops, one to loop over sequence_records_list and another to loop over the sequences (incorrectly using range(len(sequence_records_list))). This doesn't correctly reference the characters in the sequence for each position.\n",
    "2. Incorrect Indexing:\n",
    "Inside the loop, you're iterating over records.seq (each sequence) but then incorrectly reference sequence[j] for positions. You should be using the j index to access the sequence characters.\n",
    "3. Sequence Processing:\n",
    "For each sequence, you need to update the profile matrix at the specific position, but your code tries to use both the record and sequence in the same loop, which creates issues.\n",
    "\n",
    "**Solution:**\n",
    "\n",
    "You should:\n",
    "\n",
    "* Loop over each record (records).\n",
    "* Loop over the positions of each sequence.\n",
    "* For each position, check if the character is 'A' and update the profile matrix."
   ]
  },
  {
   "cell_type": "markdown",
   "metadata": {},
   "source": [
    "# Another Attempt (Slow breakdown of problem)"
   ]
  },
  {
   "cell_type": "code",
   "execution_count": 2,
   "metadata": {
    "execution": {
     "iopub.execute_input": "2024-10-25T10:23:41.004407Z",
     "iopub.status.busy": "2024-10-25T10:23:41.003957Z",
     "iopub.status.idle": "2024-10-25T10:23:41.014622Z",
     "shell.execute_reply": "2024-10-25T10:23:41.012561Z",
     "shell.execute_reply.started": "2024-10-25T10:23:41.004365Z"
    }
   },
   "outputs": [
    {
     "name": "stdout",
     "output_type": "stream",
     "text": [
      "['ATCCAGCT', 'GGGCAACT', 'ATGGATCT']\n"
     ]
    }
   ],
   "source": [
    "string1 = 'ATCCAGCT'\n",
    "string2 = 'GGGCAACT'\n",
    "string3 = 'ATGGATCT'\n",
    "length = len(string1)\n",
    "strings_list = [string1, string2, string3]\n",
    "print(strings_list)"
   ]
  },
  {
   "cell_type": "code",
   "execution_count": 5,
   "metadata": {
    "execution": {
     "iopub.execute_input": "2024-10-25T10:23:53.945107Z",
     "iopub.status.busy": "2024-10-25T10:23:53.944488Z",
     "iopub.status.idle": "2024-10-25T10:23:53.951756Z",
     "shell.execute_reply": "2024-10-25T10:23:53.950133Z",
     "shell.execute_reply.started": "2024-10-25T10:23:53.945062Z"
    }
   },
   "outputs": [],
   "source": [
    "sample_matrix = np.zeros((4, length))\n",
    "# Optionally round the values first if needed\n",
    "# This ensures any small floating-point inaccuracies are removed\n",
    "sample_matrix = np.rint(sample_matrix)\n",
    "\n",
    "# Convert the matrix to integer type\n",
    "sample_matrix = sample_matrix.astype(int)\n",
    "#print(sample_matrix)\n"
   ]
  },
  {
   "cell_type": "code",
   "execution_count": 6,
   "metadata": {
    "execution": {
     "iopub.execute_input": "2024-10-25T10:23:58.852220Z",
     "iopub.status.busy": "2024-10-25T10:23:58.851782Z",
     "iopub.status.idle": "2024-10-25T10:23:58.864494Z",
     "shell.execute_reply": "2024-10-25T10:23:58.862620Z",
     "shell.execute_reply.started": "2024-10-25T10:23:58.852177Z"
    }
   },
   "outputs": [
    {
     "name": "stdout",
     "output_type": "stream",
     "text": [
      "[[2 0 0 0 3 1 0 0]\n",
      " [0 0 1 2 0 0 3 0]\n",
      " [1 1 2 1 0 1 0 0]\n",
      " [0 2 0 0 0 1 0 3]]\n"
     ]
    }
   ],
   "source": [
    "for string in strings_list:\n",
    "    for i in range(length):\n",
    "        if string[i] == 'A':\n",
    "            sample_matrix[0][i] += 1\n",
    "        elif string[i] == 'C':\n",
    "            sample_matrix[1][i] += 1\n",
    "        elif string[i] == 'G':\n",
    "            sample_matrix[2][i] += 1\n",
    "        elif string[i] == 'T':\n",
    "            sample_matrix[3][i] += 1\n",
    "print(sample_matrix)"
   ]
  },
  {
   "cell_type": "markdown",
   "metadata": {},
   "source": [
    "**Step 1: Define Labels**\n",
    "This list, labels, contains labels that correspond to each row in sample_matrix. Each label represents a nucleotide base.\n",
    "\n",
    "**Step 2: Loop Through sample_matrix with enumerate()**\n",
    "* Here, enumerate(sample_matrix) iterates over each row in sample_matrix and also provides the row's index.\n",
    "* i is the index (0, 1, 2, or 3) that corresponds to each row.\n",
    "* row is the actual data in each row.\n",
    "\n",
    "Since sample_matrix is a 2D array, enumerate() naturally goes through each row one at a time because rows are the first dimension in a 2D array (i.e., sample_matrix[0] is the first row, sample_matrix[1] is the second row, and so on).\n",
    "\n",
    "**Step 3: Convert Row Data to a String of Integers**\n",
    "* map(str, row) converts each integer in row to a string.\n",
    "* ' '.join(...) combines these string elements into one single string where each element is separated by a space.\n",
    "So, if row is [1, 0, 2, 3], row_str becomes '1 0 2 3'.\n",
    "\n",
    "**Step 4: Print the Label and Row Data**\n",
    "* labels[i] provides the label for the current row based on i (e.g., A: for the first row).\n",
    "* {row_str} is the formatted row data as a space-separated string.\n",
    "This print() statement outputs the label followed by the matrix row data."
   ]
  },
  {
   "cell_type": "code",
   "execution_count": 7,
   "metadata": {
    "execution": {
     "iopub.execute_input": "2024-10-25T10:24:04.394978Z",
     "iopub.status.busy": "2024-10-25T10:24:04.394515Z",
     "iopub.status.idle": "2024-10-25T10:24:04.402916Z",
     "shell.execute_reply": "2024-10-25T10:24:04.401670Z",
     "shell.execute_reply.started": "2024-10-25T10:24:04.394936Z"
    }
   },
   "outputs": [
    {
     "name": "stdout",
     "output_type": "stream",
     "text": [
      "A: 2 0 0 0 3 1 0 0\n",
      "C: 0 0 1 2 0 0 3 0\n",
      "G: 1 1 2 1 0 1 0 0\n",
      "T: 0 2 0 0 0 1 0 3\n"
     ]
    }
   ],
   "source": [
    "# Labels for the rows\n",
    "labels = ['A:', 'C:', 'G:', 'T:']\n",
    "# Loop through each row and print with the corresponding label\n",
    "for i, row in enumerate(sample_matrix):\n",
    "    # Join the row elements as a string of space-separated integers\n",
    "    row_str = ' '.join(map(str, row))\n",
    "    \n",
    "    # Print the label followed by the row\n",
    "    print(f\"{labels[i]} {row_str}\")"
   ]
  },
  {
   "cell_type": "code",
   "execution_count": 19,
   "metadata": {
    "execution": {
     "iopub.execute_input": "2024-10-24T06:08:28.562048Z",
     "iopub.status.busy": "2024-10-24T06:08:28.561537Z",
     "iopub.status.idle": "2024-10-24T06:08:28.571495Z",
     "shell.execute_reply": "2024-10-24T06:08:28.569937Z",
     "shell.execute_reply.started": "2024-10-24T06:08:28.562002Z"
    }
   },
   "outputs": [
    {
     "name": "stdout",
     "output_type": "stream",
     "text": [
      "[[2. 0. 0. 0. 3. 1. 0. 0.]\n",
      " [0. 0. 1. 2. 0. 0. 3. 0.]\n",
      " [1. 1. 2. 1. 0. 1. 0. 0.]\n",
      " [0. 2. 0. 0. 0. 1. 0. 3.]]\n"
     ]
    }
   ],
   "source": [
    "# for i in range(length):\n",
    "#     for string in strings_list:\n",
    "#         if string[i] == 'A':\n",
    "#             sample_matrix[0][i] += 1\n",
    "#         elif string[i] == 'C':\n",
    "#             sample_matrix[1][i] += 1\n",
    "#         elif string[i] == 'G':\n",
    "#             sample_matrix[2][i] += 1\n",
    "#         elif string[i] == 'T':\n",
    "#             sample_matrix[3][i] += 1\n",
    "# print(sample_matrix)"
   ]
  },
  {
   "cell_type": "markdown",
   "metadata": {},
   "source": [
    "### Both iterations (looping through strings first, and then through positions, and vice versa) give same results"
   ]
  },
  {
   "cell_type": "markdown",
   "metadata": {},
   "source": [
    "Both versions of the code give the same result because the logic of how you update the sample_matrix remains the same. Let's break it down and compare the two loops:\n",
    "\n",
    "**Original Code (String Loop First):**\n",
    "\n",
    "for string in strings_list:\n",
    "    for i in range(length):\n",
    "        if string[i] == 'A':\n",
    "            sample_matrix[0][i] += 1\n",
    "        elif string[i] == 'C':\n",
    "            sample_matrix[1][i] += 1\n",
    "        elif string[i] == 'G':\n",
    "            sample_matrix[2][i] += 1\n",
    "        elif string[i] == 'T':\n",
    "            sample_matrix[3][i] += 1\n",
    "            \n",
    "**Logic:**\n",
    "\n",
    "* This version loops over each string in strings_list first.\n",
    "* For each string, it loops over each position i in the string (length of the string).\n",
    "* It checks which character ('A', 'C', 'G', or 'T') is at position i and updates the corresponding row of the matrix.\n",
    "\n",
    "**Modified Code (Position Loop First):**\n",
    "\n",
    "for i in range(length):\n",
    "    for string in strings_list:\n",
    "        if string[i] == 'A':\n",
    "            sample_matrix[0][i] += 1\n",
    "        elif string[i] == 'C':\n",
    "            sample_matrix[1][i] += 1\n",
    "        elif string[i] == 'G':\n",
    "            sample_matrix[2][i] += 1\n",
    "        elif string[i] == 'T':\n",
    "            sample_matrix[3][i] += 1\n",
    "\n",
    "**Logic:**\n",
    "\n",
    "* This version loops over each position i first.\n",
    "* For each position i, it loops over each string in strings_list.\n",
    "* It checks which character ('A', 'C', 'G', or 'T') is at position i across all strings and updates the matrix in the same way.\n",
    "\n",
    "**Why Both Work:**\n",
    "In both versions, you're essentially doing the same thing:\n",
    "\n",
    "* For each position i in the sequences, you're counting how many 'A's, 'C's, 'G's, and 'T's appear and updating the sample_matrix accordingly.\n",
    "\n",
    "**The only difference is the order of loops:**\n",
    "\n",
    "* In the first version, you go through all positions of the first string, then the second string, and so on.\n",
    "* In the second version, you check all strings at position 0 first, then position 1, and so on.\n",
    "Both approaches ensure that every nucleotide at every position is checked, leading to the same result in the matrix, even though the loop order is reversed.\n",
    "\n",
    "**Conclusion:**\n",
    "* Order of iteration doesn't matter in this case as long as you are processing each character at each position for every string.\n",
    "* Both versions are correct and will give the same result because they essentially perform the same comparisons and updates."
   ]
  },
  {
   "cell_type": "markdown",
   "metadata": {},
   "source": [
    "### Generally the order of iterations matters"
   ]
  },
  {
   "cell_type": "markdown",
   "metadata": {},
   "source": [
    "This **is** a special case. In general, the order of iteration does matter in most algorithms or loops. The reason it doesn’t matter in your case is because the logic is independent of the order of looping. You're doing the same operation (updating the matrix) for each character at each position, regardless of whether you check by position first or string first.\n",
    "\n",
    "**Why This is a Special Case:**\n",
    "1. Commutative Operation: The update operation sample_matrix[row][i] += 1 (incrementing the count for each base) is commutative. This means the result is the same no matter the order in which you count, as long as you eventually count every character at every position. So whether you go through the positions or the strings first, the same counts are updated.\n",
    "\n",
    "2. No Interdependency: Each string's sequence at a given position is independent of other positions or other strings. You're not relying on previous values or iterations; you’re simply incrementing the matrix based on the character at each position. This lack of dependency between the iterations is what allows the loop order to be interchangeable.\n",
    "\n",
    "**Cases Where Order Does Matter:**\n",
    "In many algorithms, the order of iteration does matter. Some examples:\n",
    "\n",
    "1. <ins>Cumulative or Dependent Operations</ins>: If each step in your loop depends on the results of the previous steps, the order becomes critical. For example:\n",
    "*     Matrix multiplication: The order of accessing elements matters because you need to compute row by column products, and if the order is wrong, you won’t get the correct result.\n",
    "* Filling an array based on previous values: If you're filling an array based on the values that have been filled before (e.g., dynamic programming), changing the order can result in incorrect or incomplete updates.\n",
    "2. <ins>In-place Modifications</ins>: If you're modifying the list or matrix itself during the loop, the order of iteration can change how or when elements are modified. For instance, removing elements while iterating over them in a certain order can lead to skipped elements or incorrect results.\n",
    " \n",
    "3. <ins>Sorting Algorithms</ins>: Sorting is highly order-dependent. A sorting algorithm must follow a strict process to ensure the correct order of elements, and changing how or when elements are compared would result in a completely different (and likely incorrect) sorted list.\n",
    "\n",
    "4. <ins>Multi-loop algorithms</ins>: Some problems involve nested loops where the inner loop depends on the results of the outer loop. For example, when comparing elements in two different arrays or matrices, switching the order of the loops might cause the wrong comparisons to be made.\n",
    "\n",
    "**Conclusion:**\n",
    "Yes, this is a special case where the order of iteration doesn’t matter because each iteration step is independent and the operation is commutative. In most algorithms, though, the order is crucial to getting the right result.\n",
    "\n",
    "It's great that you're thinking deeply about this, as understanding when iteration order matters is key to writing robust code!"
   ]
  },
  {
   "cell_type": "markdown",
   "metadata": {},
   "source": [
    "#### Consensus String Generation"
   ]
  },
  {
   "cell_type": "code",
   "execution_count": 38,
   "metadata": {
    "execution": {
     "iopub.execute_input": "2024-10-25T07:41:34.183470Z",
     "iopub.status.busy": "2024-10-25T07:41:34.183070Z",
     "iopub.status.idle": "2024-10-25T07:41:34.189304Z",
     "shell.execute_reply": "2024-10-25T07:41:34.188093Z",
     "shell.execute_reply.started": "2024-10-25T07:41:34.183434Z"
    }
   },
   "outputs": [],
   "source": [
    "# # Accessing each column in a loop\n",
    "# column_list = []\n",
    "# for i in range(sample_matrix.shape[1]):\n",
    "#     column_list.append(sample_matrix[:, i])"
   ]
  },
  {
   "cell_type": "code",
   "execution_count": 10,
   "metadata": {
    "execution": {
     "iopub.execute_input": "2024-10-25T10:24:57.064094Z",
     "iopub.status.busy": "2024-10-25T10:24:57.063704Z",
     "iopub.status.idle": "2024-10-25T10:24:57.071254Z",
     "shell.execute_reply": "2024-10-25T10:24:57.069768Z",
     "shell.execute_reply.started": "2024-10-25T10:24:57.064057Z"
    }
   },
   "outputs": [
    {
     "name": "stdout",
     "output_type": "stream",
     "text": [
      "[2, 2, 2, 2, 3, 1, 3, 3]\n"
     ]
    }
   ],
   "source": [
    "#max_in_columns = np.max(sample_matrix, axis=0)\n",
    "max_in_columns = [max(row[i] for row in sample_matrix) for i in range(len(sample_matrix[0]))]\n",
    "print(max_in_columns)"
   ]
  },
  {
   "cell_type": "code",
   "execution_count": null,
   "metadata": {},
   "outputs": [],
   "source": []
  },
  {
   "cell_type": "markdown",
   "metadata": {},
   "source": [
    "# Sample Problem Given"
   ]
  },
  {
   "cell_type": "markdown",
   "metadata": {},
   "source": [
    "#### Profile Matrix Generation"
   ]
  },
  {
   "cell_type": "code",
   "execution_count": 2,
   "metadata": {
    "execution": {
     "iopub.execute_input": "2024-11-04T04:07:49.387108Z",
     "iopub.status.busy": "2024-11-04T04:07:49.386176Z",
     "iopub.status.idle": "2024-11-04T04:08:06.759921Z",
     "shell.execute_reply": "2024-11-04T04:08:06.758332Z",
     "shell.execute_reply.started": "2024-11-04T04:07:49.387062Z"
    }
   },
   "outputs": [
    {
     "name": "stdout",
     "output_type": "stream",
     "text": [
      "Collecting biopython\n",
      "  Downloading biopython-1.84-cp310-cp310-manylinux_2_17_x86_64.manylinux2014_x86_64.whl.metadata (12 kB)\n",
      "Requirement already satisfied: numpy in /opt/conda/lib/python3.10/site-packages (from biopython) (1.26.4)\n",
      "Downloading biopython-1.84-cp310-cp310-manylinux_2_17_x86_64.manylinux2014_x86_64.whl (3.2 MB)\n",
      "\u001b[2K   \u001b[90m━━━━━━━━━━━━━━━━━━━━━━━━━━━━━━━━━━━━━━━━\u001b[0m \u001b[32m3.2/3.2 MB\u001b[0m \u001b[31m35.3 MB/s\u001b[0m eta \u001b[36m0:00:00\u001b[0m00:01\u001b[0m00:01\u001b[0m\n",
      "\u001b[?25hInstalling collected packages: biopython\n",
      "Successfully installed biopython-1.84\n",
      "Note: you may need to restart the kernel to use updated packages.\n"
     ]
    }
   ],
   "source": [
    "pip install biopython"
   ]
  },
  {
   "cell_type": "code",
   "execution_count": 3,
   "metadata": {
    "execution": {
     "iopub.execute_input": "2024-11-04T04:08:20.047588Z",
     "iopub.status.busy": "2024-11-04T04:08:20.047096Z",
     "iopub.status.idle": "2024-11-04T04:08:20.186182Z",
     "shell.execute_reply": "2024-11-04T04:08:20.184893Z",
     "shell.execute_reply.started": "2024-11-04T04:08:20.047544Z"
    }
   },
   "outputs": [
    {
     "name": "stdout",
     "output_type": "stream",
     "text": [
      "8\n"
     ]
    }
   ],
   "source": [
    "# Import SeqIO to parse FASTA file\n",
    "from Bio import SeqIO\n",
    "\n",
    "#Save file path in a variable\n",
    "filePath = '/kaggle/input/consensus-sample/cons_sample.txt'\n",
    "\n",
    "#Parse FASTA file to extract sequence records\n",
    "sequence_records_list = list(SeqIO.parse(filePath, \"fasta\"))\n",
    "\n",
    "#Save the length of sequences in a variable\n",
    "sequences_length = len(sequence_records_list[0].seq)\n",
    "print(sequences_length)"
   ]
  },
  {
   "cell_type": "code",
   "execution_count": 8,
   "metadata": {
    "execution": {
     "iopub.execute_input": "2024-11-04T04:18:31.158071Z",
     "iopub.status.busy": "2024-11-04T04:18:31.157587Z",
     "iopub.status.idle": "2024-11-04T04:18:31.165562Z",
     "shell.execute_reply": "2024-11-04T04:18:31.164564Z",
     "shell.execute_reply.started": "2024-11-04T04:18:31.158023Z"
    }
   },
   "outputs": [
    {
     "name": "stdout",
     "output_type": "stream",
     "text": [
      "[[0 0 0 0 0 0 0 0]\n",
      " [0 0 0 0 0 0 0 0]\n",
      " [0 0 0 0 0 0 0 0]\n",
      " [0 0 0 0 0 0 0 0]]\n"
     ]
    }
   ],
   "source": [
    "# Create a 2D array with 4 rows and columns = length of sequences, initialized to zero\n",
    "profile_matrix = np.zeros((4, sequences_length))\n",
    "\n",
    "# Optionally round the values first if needed\n",
    "# This ensures any small floating-point inaccuracies are removed\n",
    "profile_matrix = np.rint(profile_matrix)\n",
    "\n",
    "# Convert the matrix to integer type\n",
    "profile_matrix = profile_matrix.astype(int)\n",
    "\n",
    "print(profile_matrix)"
   ]
  },
  {
   "cell_type": "code",
   "execution_count": 9,
   "metadata": {
    "execution": {
     "iopub.execute_input": "2024-11-04T04:18:33.777471Z",
     "iopub.status.busy": "2024-11-04T04:18:33.776617Z",
     "iopub.status.idle": "2024-11-04T04:18:33.783551Z",
     "shell.execute_reply": "2024-11-04T04:18:33.782411Z",
     "shell.execute_reply.started": "2024-11-04T04:18:33.777421Z"
    }
   },
   "outputs": [
    {
     "name": "stdout",
     "output_type": "stream",
     "text": [
      "['ATCCAGCT', 'GGGCAACT', 'ATGGATCT', 'AAGCAACC', 'TTGGAACT', 'ATGCCATT', 'ATGGCACT']\n"
     ]
    }
   ],
   "source": [
    "sequence_list = []\n",
    "for record in sequence_records_list:\n",
    "    sequence_list.append(str(record.seq))\n",
    "\n",
    "print(sequence_list)"
   ]
  },
  {
   "cell_type": "code",
   "execution_count": 10,
   "metadata": {
    "execution": {
     "iopub.execute_input": "2024-11-04T04:29:16.282873Z",
     "iopub.status.busy": "2024-11-04T04:29:16.282404Z",
     "iopub.status.idle": "2024-11-04T04:29:16.294405Z",
     "shell.execute_reply": "2024-11-04T04:29:16.292647Z",
     "shell.execute_reply.started": "2024-11-04T04:29:16.282832Z"
    }
   },
   "outputs": [],
   "source": [
    "def consensus_profile_generator(list_of_sequences, length_of_sequences, matrix):\n",
    "    for string in list_of_sequences:\n",
    "        for i in range(length_of_sequences):\n",
    "            if string[i] == 'A':\n",
    "                matrix[0][i] += 1\n",
    "            elif string[i] == 'C':\n",
    "                matrix[1][i] += 1\n",
    "            elif string[i] == 'G':\n",
    "                matrix[2][i] += 1\n",
    "            elif string[i] == 'T':\n",
    "                matrix[3][i] += 1\n",
    "    #return matrix\n",
    "\n",
    "    # Labels for the rows\n",
    "    labels = ['A:', 'C:', 'G:', 'T:']\n",
    "\n",
    "    # Build the consensus string\n",
    "    consensus_string = \"\"\n",
    "    for j in range(matrix.shape[1]):\n",
    "        # Find the index of the max value in each column\n",
    "        max_index = np.argmax(matrix[:, j])\n",
    "        # Append the corresponding base to the consensus string\n",
    "        consensus_string += labels[max_index][0]\n",
    "\n",
    "    # Loop through each row and print with the corresponding label\n",
    "    for i, row in enumerate(matrix):\n",
    "        # Join the row elements as a string of space-separated integers\n",
    "        row_str = ' '.join(map(str, row))\n",
    "        # Print the label followed by the row\n",
    "        print(f\"{labels[i]} {row_str}\")\n",
    "    # Print the consensus string\n",
    "    print(\"\\nConsensus String:\", consensus_string)"
   ]
  },
  {
   "cell_type": "code",
   "execution_count": 11,
   "metadata": {
    "execution": {
     "iopub.execute_input": "2024-11-04T04:29:19.693219Z",
     "iopub.status.busy": "2024-11-04T04:29:19.692226Z",
     "iopub.status.idle": "2024-11-04T04:29:19.700443Z",
     "shell.execute_reply": "2024-11-04T04:29:19.699196Z",
     "shell.execute_reply.started": "2024-11-04T04:29:19.693151Z"
    }
   },
   "outputs": [
    {
     "name": "stdout",
     "output_type": "stream",
     "text": [
      "A: 5 1 0 0 5 5 0 0\n",
      "C: 0 0 1 4 2 0 6 1\n",
      "G: 1 1 6 3 0 1 0 0\n",
      "T: 1 5 0 0 0 1 1 6\n",
      "\n",
      "Consensus String: ATGCAACT\n"
     ]
    }
   ],
   "source": [
    "consensus_profile_generator(sequence_list, sequences_length, profile_matrix)"
   ]
  },
  {
   "cell_type": "markdown",
   "metadata": {},
   "source": [
    "## Actual Problem Solution"
   ]
  },
  {
   "cell_type": "code",
   "execution_count": 13,
   "metadata": {
    "execution": {
     "iopub.execute_input": "2024-11-04T04:35:23.273006Z",
     "iopub.status.busy": "2024-11-04T04:35:23.272579Z",
     "iopub.status.idle": "2024-11-04T04:35:23.282884Z",
     "shell.execute_reply": "2024-11-04T04:35:23.281689Z",
     "shell.execute_reply.started": "2024-11-04T04:35:23.272967Z"
    }
   },
   "outputs": [
    {
     "name": "stdout",
     "output_type": "stream",
     "text": [
      "['TGGTGTTCCGGTACTTCCCTTTCTTCCGAGCGTTAATCCATGGGACGTGGTCCGGCGTAGAGGCCGGAAGGAGTTCGATGAGCATTATCTGTCCGCATTTTTGGTGGTTCATCAAGACATTGCAAACGATTTAGCATATAGTCGGGTCTAATATCTTTAAGCTTATTAGACCGGGAGCAGCTATACCGCAATGCCCCGGAGTACCTCAAATAGACCATACTTGCCCCGATTAGACGATTTCGGCCCATAGGTCAGAGTTTACCCCAAGCCGCGCCACCCGACGGGTGTCAAACAGACTGGCAGCGCAGACATTACGGACAGTTATCCTGCTAGATTCGCGAACTATTGCTGCGGCTGCTCTCTGGGCGAGAGAAAATAACGAACTAGTGCGTGCCTCCCCGCCGTCTATTCATAGCGGTACGCATATATCCGGGCTGTATAGGACAACCATATTCTTCCTGTCACGCGATTCATTGTCATGAACCCTTGCTTGGAGGCTGACTTCGTGCAGCAGTGGCCAATCGTTCCGCATAGACGTTCTCAACTCAAATACAGGTGGTTCGTGCTTGAAGTGATAGAGCTTGAAAATCGTCTAGTGACTGATTTGATTGGATATCAATAACCGGTTATCAACGATGCACAGCCGACCTAATCTTGTACAACGGGTGTAATTAGTCAACAGTGCGTTAGGAACCCGATAAGCACCCTCGTAAGTGGTTTATCATAGATGGAAATGTCAATGTCAGGGGCAAGGGTGTCGCTACCATAGAGCAACCAAGGTCTCATAGCCATCAAGAAGGAGGTATTATGCGCAATCATCATTGCTCTACTCTCCGGATTACCTGTGAGCTTCCGCGAGGCATTTGGCGAATGCGCCGGTAGTGACGTGCACGTCCACCGTATATTAGTCCTATGAAC', 'TTGTACTCCAACAGTGACGTCTTGTCTCCTATTGGAGGATTCCAATAGTGTCTCCATATCTCACATCGCACATTTTGTCGTCAGCGATGGTGGTGTGCGTACCCGTACATGTGAGATGGACTCCAATTTTCCGAATGCGCCCATCTAGGTATTGATTACTGAGGTCTCAACCATGGGTGCATCCCAACCTAGACTTGCTTCCGTGACCCAAAAGAGGACTAAGTAGTGCTGAGGAGTCCGTCGAAACAATCCTACGGCGTTTTAGTTGGAGGGCCATCCGAACCCCTATGTCGATTACTCATCGTGAAGCGCAAATCTGCAAATTTTAGAATGCCTAACGCCGCGATATGAGGCAAGACTCCCCGGGCTAAGACCCTCGTCTACTGATTGACACTTTCTTATCTATCCCTTACATTTGCCCGTTTACGGTTAATCAGTTTGCATTGTCTGTGTAGTAGCCTTCCCCCGCTTTTTGCTGTACCCACTAGGTGTGTCTGTATTGTATACAGGGTAAGATCCCGTTATTCATTGCATGGATAGAGTCGTCGACCAGTGGTCCTAGAGATATCACGTCGATGCGTAGTGGGAGAGGGTAAAGCGGCACTCCGCTCGTCCGTCCCTTGTCGACTAACAGGGCGGTAATATTGCACGATGTCCTTAGTGCTATAGATTGTGAGATATTTTTTTAGCTATGATCTACAGAGTCGGTCCGTGGGGCTCCGTTTAACTCCTGCGGTTCCCGTACCTATATGTTCTAACGACCCGGAGCGATATCATAGCCCTACGATTCGGCTTAGATTGCGCTGACTCGGGCGATAGGCATGCAACTCTATACGTCAATAAACTTGACCGACGCGTCTGTCTTCGGTGGTATTTGCGGATGGGCCCATAAAGTTATGGGCCTAATAGGCATTTTGG', 'CTACTCGGTCAGCACCGAGTACAAGCATGCTTTTTAAGACAACATTAGCTAGCCTCGCTCAGATATGAAAGTTACCCCCCCCGTGTCAATACGCTGATAAATAAGTGCACTCTGTATTGCAACGCACCCCGAAAAGAGTTTATCCGGGCGCCGCCACTAGACAGTAGGCCAGCACGCTCTCCTTCCTTAGGTTCCTAAAACTCAGGACCAGTTAAGCCTAGCCTGAGACCGGATACCGTAGCTCCTATGGCGTAACGCCTGAGATCGAGAACTCATGAGCGATTCCAGTATTACCTACTGTACTCTCAAATCGCGTTATTTGCTAGCGGGGCTCTCCTCTGATTCGAAGCCCACTGTTAATCGTACAGTCGATAGCCCCCTTGTTCGTTATCCTTCGGCGGCTTTTGTTATAAAGACGTCTTCTTAGCGGTCGTCAATATTAAGCCAGGTTACGTCGCTGAGGAGGCGCCCTATAAAGTCTGTGCATTTCGTTGGCGAATTGGCCGGAAGTGTTTTCAGTAGCTCTTGGGAAGGAGTCCGTCTAGTTTCTCATTTCTCTCAAAAGCAGTCTGCACCGCAACCCCGTGAACTAGGGAACAGAACCAGTCGAAGCATGAATTATACGTTGGGAGAGATGTGCAGGTTCGGATATATAAGCAGGACCGGTGGGATAAAGAAATCGGTGGAGGGGGGTCGTGCTTTTGGGACTGGATAAAGTAGAAGAGTACCACCTACATGTTCGACCTCTACTATATCAAAGGTATATGCTATGATGGCTTCGTTATTTTTGCAAAAGGCTGCGTGGCTAACACGCAAGAGGGAAAAATTGTCGGTGGACCAGTCTACAAGCCGCGTAATTGACTTAGTGTGTTAGCCTAGTGTAGGGGACACGGGTCTGGGTTAGTTCAGGGTAGGGTA', 'TTGCGTCGGTTTGTTGGGGATGTGAATAAGATTTCAACCAGATCATACGGCCTCAACCCGCCCAACATCGCGCGTCACCTCCATCGAGGGAGCATCTATAGCTACTATGCCGGTCGTACCCATAAGGGGTCTTTCACACCGTTTCCCTGTATTACCTGTCGGGAGGCACCCTCCAGTTTTATGCTCAAGGCTTAACTGTGTGCCAATGGAACACAATTTTGCGATGATGAGCGCGAGCCAGCGTGTCGTCTGAACGACCAGAAATTGGTAACATTCCACCCAGTGGAGATGCGCCTTAAAGGAACAGAGGTCGTCTGAATATGCCGCTATGAGTTCTGCCGCACCTCTAATTAAAACGCTTTGGAGTTATGTTTTTGCTCAGAGAGGAGACGTAGAAAAAATCCTGAACGAGGCTTAAGCCCGTGCTGAGCCCGGACCGCGCCTAGAAATGCGCGTTGGAGGAGGAGTTCCTGTACTACCTTCGCGTTTGAAGAGGCCTTGCTAATCCAGTTCCATGCATTCTGCTAGCGTATCACGAGTCAAAACCAGTGAGCAAATTTGGAGTCCGGGTTCGAGGGTAGCCACTGTATGGGCGGTTGTATGAGTTAGCGTGTGCCGAGATTACTGGCACAGCGCTTCGCGAGATGGCAAATTGCCCCCTTGCAAATCGATAATTTCAGGACTAACGAATATCCAGAAGTCACAGGCGGCTCCTATCTAACGCAAGCGCTAGGTCAAGGTAGGGAAGGTTGATCGCGGTCGCGGAACGGATTCGTCCGAGGGAACCAATATTCAACTTGTCTGCCAGGGATCAATCGCGATATGTTGACCCTTAGCGGGCTCCTTCCGCTCGCTTGCCAACGCAACGAAGCCACGGGGTCGCCTGGCGAACCTAGCGAATGTTCGGAGTGTTGCACA', 'GATCTAGTGCAGATTAGTAGAGATTAATTCCTGCCCAACTTTCATGTAGTACTCTCAAGTCCGTTTGGACAACGCTATTCTCCGTGAGAGACTCGCGACATCTGCCATTACCTTAAAAGCAGTTTCGGCCCTATACCGGCCGATCTTCGGCTCAACATAAGCTCCGGCGCTACTGCGACGTTTCCGGGACTCCGAAAGAATCTAGTCTAGGGTTTCCTCCGCACGGCAGACTTCAAATAAAGCGGTCAAAATGTTCCTAGGTGTTTTGAGACCAAACATAGGCGCCGCAGAGTTATGATAAAACTCCGGCAAGTGATCCCAGACGTAAAGATCTTCAGCGCAAGACTGACCTCCCTCAGGACATTGGAACAAATATAGTTGAGAAAGTTCACCACCAATGATTTGGCGCAGCGCCCACCGCAGTTGCCACATCAAGACGGTTTGGGCTGAGGGCAGTCAGTTCGAACCTTACGATTATGTTGTGTCACTATTATGGACCCTTGTCGATTAAATTGACCACGTGACCTTCGATGCGCACTGTGTAGATCAGCCGCCTTACACGACACAATCGGTCGTGGGTGTCCGTCCGTGGTTCGAGTACAAGGGGCTCGAGCGCCCCGGGTTACCACTGTAAGAATCCAACCGTAACGTACTTGGGCCCACCATCTATCGGAGCAAACATAGATTACAAAAGCTTTGATACCTTCATACGCCTTTCGCGCGAGAAAGTCTATTAGGGCTCCGTTACTGACCTGAAACACAAGGCTCGATATATCATCTCACTGCATTCACTAGTGGCTTTGCGCTTCAGGAAACTCCCACATTCAATACTACGATATGTACGGGTATCAGTCGTCTCGAGCGCGTAACAATTTTCCCCTACGACACTTGATACAATGACCGGCAGGTCGCGTTGTA', 'TCCCCGGGTTCTTGTTACAAACTCGGACCCTTGCAACAGTCTGGAACCATCGTGGGTGCGCCGCCACTGACTCACTGCATAGACTCCGCTCAGAGGTCGTGTACCGGATTCTTGCTCCGGCACAGATCAAATTTTGTGACTTGTTTGGTCTAACGCTAGAGCTGCGAAGAGTCTTCGCTTAGAGTACGCCAGCGTCTCCAAGTCCATCGGGCAAATTGTGCGCCTGGAGCAGCGCGCCGGGCATGCTGTGGCACGCACCTCCCTGGTATCAGACAAGAGCCTCCTTGCTAGTGTACGGAGCTATTCCTCCACTCAAACCTCTAGGCGAACATTGCCCGGGTATAACCGATATCGCAAGGCGACTGACATATACCACTGCTGGACTCTACACGAGAAGTACCCGCAGAGCGGGACCATGGGGAGCTGTATACGCCCGCTTAGAAGAGGGTTGCCAGCAGAACGCGAGACCGTCTGGTTCTCATATGACAGGTTCTAAGACAATGTAAACAATGTCCGTACCGTAATAAAGCTGATGTCGTATTACGTGAAGTTCGATGGAGCTCCATTTCCACTAACAATCATATGCGGCGACTGTATAAACTCTGGTAAGAGGCGATCCATATATTGCCTAAGTATCTATAGAATGGTAACTCTTTTAATGTGCCAATAGGTGGAAGTATTCGAGCGTATATGTATTAATTCCGGCCAATATCGAGTTGTGCGCAGCAAAAATTCGCAACTAGTTGACTTGAGCTACTTCGAATCGAGGCTGAGTGGCTATCGCCTAGTTCGGACACCGCTTAGGTTGAATAAGGTATCATTCATTCATTGCTCTGCTACCATGCCCCCTAATGTCGAGCTTGGCGTCCACAAACAGATTGAGATTGGTCTCGTGATTAACGTACTCAGCCTGGTTAC', 'TAGGAGCTTCTTGGTTTCTGGTGTTCCCATGAGCTTAACTGTAAGAAAGTAGATTCGACGTTCCCGAAGACATGCTGTTTTCTAGAACCGAAGCTAGCCCGGAGTATGACGCGTTTAGGCTCCCCTGGGATCGGATTATCCAATCGCACGCTACGTGTATGTGCAACCCAGTGAAGATGCGAATCTGTGGTGTCCCGATCACTTTTGCTCCGTGGCCTAACTTGCTTTTTAGGCCTTTCCACCCGTTCAGTAATTGTCCGAATGCTTCAATATTGAGGCATCGCTTACCCGGGGTGGATCACAGCCCCCCCACGGACGATAAGTGTCACCTAGAGTTACGTGTCGTCTGTAGATCTCTAAATAAGTGACTCTAGAAAACGAACACCGATTGATTAGGCCAAATCTCCGGCCTACTACAATCTACGAACCCAACGGACCCGCAATGAATCGGGTGTTTTCTTGCGCAAACCTGACACGTTCGTTCGTGGTGCTCTGACTGCGCTGAAATGGCGCATATAAAAAGTCATCACGTCATAGGTACGTTACGGCGGGCGGAGCTCGTTAGTATAAAAGTGATTTGTCAAGGGTTATCTGATAAGCGGTATCGCTAATGGGTGAGTAGGATCAACCCGCTCGGTGAGAAATAGACTCATACATCTCGTGATATGGACAACCACTCAAACTTGGACTATACATCCTATGCTGTGCCCACTGCTCGCGGAAATGCAGTTGGGCAGTATATTATTGTCAGTTTATCCGTTTGACCAGACTTATTTTACTTCGACACACGTTTTGATAAATCGAGTCTGCGATTCCTTAGGATCGCGCAGGCTTGCCTGGTCATTGTTCTGACCATGGCTAGGCCGATCGCAACATTTCCGTACCCTGAGACGACATACCCATGTCGATCGAAACTAT', 'CTTACTTAATTGTTTGAACATCCTGCAGGCGACGGAATGTATCGTACCATATGATGATACAACCGGAGGCATATGATGTTGCGTCTGCTCATTGCCTTTTCTTACGAACGGAGTTCGGCTCCGTGTTGCAAGAAGGATCGTTGGGATTAAATGCCTGAAAACTTAGGAAATAAACTTCTCCCGTTTTTGGACACAAATCAGCGAAACACGTAGTTAGCTCTGGTGTCGGAAGGGGTTTGGCATAAGGGGAATGCATAGCGTTTGAACGGTAAGACCCAGACAGATTCGTTTCACGCCGGAGTTCTCGGAGACGTTTGACTGAGCGTCTGTTACGCGTTGGTCAATTGTAATTAACGAATCTCGGGGTCGCCTGGGCCCTCAGATGAAACAGGTTTCTGACACACTGGCAACGTCCTAGCCTGATGAATGCTCAGCTCCGGGATACTTCTCACTTCGCTTGCACCGGCCTCTGGGTGAGGGCCGCACTATAGACGAGTCCACGAGCCGTCAGACAACGCCTAATCGGGCCCGCAAGGGCTCGAAAGTTTGGTCTCTGTCCATAGTCTAGGTCGAACATCGGGTGATTCCACCTCACACGGCCAGTTGGTTCTCATAATGCACAAACACAGTCTTTGGGGGGTCCGGTACACCCTGCGAAAAGCCCAGCTTACTTCGGGGCGCCCTTCATAGAGTGGATTTAGAATTAATGAAGGATGCAGCGAGATCCGAACAGCGTCTTGGAGCTGCGGGCCTCGGTAACAGCGCAGTCCGCCTCTTTTGGACTATGCTCCGCATCTACAGGGATTCCGTTTTCACCATGGGAATCGGTTGGGCTGAGTACGTACGTGATTTCGGACCCGGCCTGGACAGCACCCTTCTCGGAAAAGGTGACTTGCAGCTGAAAGCAGACCTAGATTT', 'GATGCTATCGCTTCCGTCCGTTTATCCGGTGTCAATATTATTGGGTCAGGCTTGAGTAAATGACCCCGTTCTCATTTGGTCGGAACGCGTGACCGGTAGATAACCGGTTTCAGTTCTTCGCTGTTGAAGTGTCTAGCTCACCGGAGAGTGTGAGCTAATGTTACTACCGGGCGCCAAGCAGTGTAGTTAACCTACCAGCGGCTAATCATGCCGTGAGGAGGTTTTGAGTGGCCATCGTCCCCTGCCTGCGAAGCCTCTGCACCTGATGTCCGCCGCTCCCCACATCCTCGCTCGTAGCGTCTTGCTGGTCTTTCCTATCCGGAATTTGAGTGCTTAGAAGGGCCCCTCGTATAGCCTTCTAGGCGAGTACCTCATGGAATTCATTTATACTATTTTAACAAATTGCCATATGCTAAACACTCATGCGCTCAGAGGAAGTCAGGATACCGGTTATTACAAACTTTATTCTATACCCAGTCACCTAACTCGCGCGGGAATAATCCCAAGAATGTCTGTCATTGGCGTCCGATTTATGGGGAATAAAGTTCGTAGAGTGAATAGGACCCATCCGACGGCGAAACGCCTTCAAGTACACTTTCTCCATGTCTATAATGAGATAAATCTCTCGCACGGACAGAGGCAGTGTAGGATTTTTTCTTCCAAGAATAGTATGCGGAAAGTTATCAGAAGTGGTCTCATGCCAGTGCATCTTTCATTCGTATGACTGTACGAAGATATTTGTCAGCTAATGGGGTTTCTATTAGCACGTCTTCTTGTACCCCAAAGGTTATCCCCAATGGGTTGTTACCCCGCCGAGGATTCCTTAGGCCCGCCGGACATTCCTGCACGGGCGTTTGACTACGCACAGTCAGATTTCGCGGGCTAGTGCGGGCCCACTCGAGATACCTTATAGCGGGT', 'CTAACACGGCTTCGTTCATACTTTAGTAGCAGCTACACGTGACAGCTACGCCGTTGCGAAGCGTTCGAACGCTTTGCGCAATATGTGGGGGGAAACTATCGTTCAGCGAGGACGTCGTCGATACTCAGTGGGGCACCATTATTTATTGACCAAATTAAATTTTCACTACACCAGACGGCTTGACCACACCCATTACCTGCGACATTGAAGACCAGTCACCTAATGTACAGTTTTTGTTACGTTTGTAAGGGAACCGGATCTCAGACGACCAAGCCAGCGAAGCGTCCATTTTAAGCCCAATTGTTGTGCGAGACACTGGAATGTGTCCATATCCCCGCCGATCGAGGAATCGGTTATATGGCGCCGATTTGCACACATCACCATTATGATGGGCTAGTCGGCGGACCTCAATTACAAACGTTAACCCAATGTCCTGACGTAGCAGCGGGGACAGAAGTTCCTCCACAGGTCGACTTGTTTTAACACGACTCGAATGTATATGAATCTAAGCGCAGGGATCTCACAGTTCCGACTTCGCGCATGGGACACTGTCAACTAGTAGACATTGTCGCGGTACCGCCGCACCGAGGAGGCCCGCTTAACCGGCGTAAAGAATGTTGGGCCCCACGTGACGTTCCCCGCTGGCACTGCGAACTCTCATTAAAAGAAGGGGAGCTCAGCTTACTACTGAGGTGAGGATAGGGTCCAATGTCGCGGCCTTGGTATGACATGCTGTTGTACAACGACACTAGGTCCTTCGTTAGACCTCGGGGTCCTCACTGGGTATGCAGGACAGGTGATTTTTAGGTCCCGGGAATAAGTAGATTTTGGTGCAGGTAGCTTTGGTTAACCCGATTCTTGATGCATTGCCGGGTCCGTGTAAGCGGTTCCAGCAGCCAACTTTCCAAATACGTTCCG']\n"
     ]
    }
   ],
   "source": [
    "#Save file path in a variable\n",
    "filePath2 = '/kaggle/input/rosalind-cons/rosalind_cons.txt'\n",
    "#Parse FASTA file to extract sequence records\n",
    "sequence_records_list2 = list(SeqIO.parse(filePath2, \"fasta\"))\n",
    "\n",
    "#Save the length of sequences in a variable\n",
    "sequences_length2 = len(sequence_records_list2[0].seq)\n",
    "#print(sequences_length2)\n",
    "\n",
    "# Create a 2D array with 4 rows and columns = length of sequences, initialized to zero\n",
    "profile_matrix2= np.zeros((4, sequences_length2))\n",
    "\n",
    "# Optionally round the values first if needed\n",
    "# This ensures any small floating-point inaccuracies are removed\n",
    "profile_matrix2 = np.rint(profile_matrix2)\n",
    "\n",
    "# Convert the matrix to integer type\n",
    "profile_matrix2 = profile_matrix2.astype(int)\n",
    "\n",
    "#print(profile_matrix2)\n",
    "\n",
    "sequence_list2 = []\n",
    "for record in sequence_records_list2:\n",
    "    sequence_list2.append(str(record.seq))\n",
    "\n",
    "print(sequence_list2)"
   ]
  },
  {
   "cell_type": "code",
   "execution_count": 14,
   "metadata": {
    "execution": {
     "iopub.execute_input": "2024-11-04T04:35:29.727692Z",
     "iopub.status.busy": "2024-11-04T04:35:29.727244Z",
     "iopub.status.idle": "2024-11-04T04:35:29.753636Z",
     "shell.execute_reply": "2024-11-04T04:35:29.752377Z",
     "shell.execute_reply.started": "2024-11-04T04:35:29.727649Z"
    }
   },
   "outputs": [
    {
     "name": "stdout",
     "output_type": "stream",
     "text": [
      "A: 0 3 2 2 2 2 1 1 1 1 3 0 3 1 0 1 3 3 2 4 3 0 2 2 2 2 4 2 3 0 3 2 0 1 4 6 7 3 2 3 2 3 1 5 4 3 4 4 2 0 4 0 1 1 2 2 2 4 4 2 3 1 3 1 3 1 3 4 4 4 2 4 1 3 0 1 2 1 1 1 3 0 4 3 1 1 5 1 2 0 5 3 1 3 1 1 2 4 1 4 2 1 4 3 1 1 4 2 4 1 1 3 0 2 2 3 3 2 1 1 3 3 1 3 3 4 2 1 2 3 2 1 4 3 6 2 2 4 1 2 1 2 3 0 2 1 2 1 2 2 4 2 5 3 2 1 3 5 6 4 2 1 2 1 4 3 1 5 2 6 1 2 3 3 3 2 2 1 1 1 3 1 4 0 2 3 2 2 3 2 4 1 2 2 4 2 4 2 2 5 2 1 1 5 3 4 1 4 3 4 3 3 3 4 4 3 1 2 3 2 1 2 2 1 1 1 3 3 2 3 3 2 1 2 3 2 2 0 2 3 2 1 1 2 2 1 3 3 4 2 3 3 4 4 2 1 3 1 1 1 3 3 2 3 2 3 1 3 2 4 6 3 2 2 3 6 0 5 0 4 3 5 0 2 0 0 3 2 2 3 2 1 3 3 2 2 2 3 3 4 3 3 4 1 0 1 2 3 3 1 5 2 2 2 3 3 2 4 2 2 5 3 4 2 1 0 1 4 5 1 4 4 0 2 0 1 2 3 1 0 2 4 3 2 4 1 1 3 5 2 4 0 5 2 2 4 2 4 2 2 3 1 2 1 2 2 2 3 4 2 3 3 5 3 5 2 3 3 2 1 3 3 7 2 2 4 3 4 2 4 2 2 2 2 2 3 3 3 3 3 6 2 1 0 3 0 2 3 1 5 2 3 3 4 1 5 5 3 2 1 0 2 4 2 0 5 2 3 3 1 3 2 3 1 1 5 4 0 2 1 3 4 4 4 2 3 4 1 1 2 2 2 2 2 2 2 2 1 3 3 1 1 1 2 4 3 3 1 1 1 1 1 4 1 3 2 3 1 1 2 1 2 3 2 3 2 2 3 0 2 1 2 2 2 3 3 2 3 3 4 2 0 2 3 4 4 3 4 5 4 1 2 2 4 2 3 0 5 3 2 4 2 2 3 1 2 2 2 2 0 3 3 5 2 3 1 2 1 2 3 2 3 5 6 2 2 0 4 4 1 1 4 1 2 3 2 2 3 1 3 3 2 6 2 4 0 6 1 1 3 3 2 1 3 3 4 2 2 3 3 1 1 2 4 1 1 1 5 4 2 2 2 0 2 3 4 4 2 3 2 3 4 4 2 1 0 0 3 2 3 5 3 2 2 4 2 2 3 3 3 5 3 2 4 1 1 3 3 1 3 3 4 4 2 2 3 1 1 1 2 4 5 3 3 1 1 5 2 4 3 3 5 2 2 1 2 1 2 4 3 1 4 2 2 5 6 2 3 3 4 4 1 3 5 2 3 3 5 7 2 3 2 2 2 2 2 3 4 5 2 5 4 3 0 3 3 0 4 4 4 3 2 4 1 1 1 2 4 2 2 3 2 1 2 3 2 0 1 1 1 4 3 1 6 3 4 3 5 3 4 1 5 3 2 1 3 2 2 3 2 1 4 2 3 1 2 3 3 2 2 3 3 1 1 1 2 3 4 2 2 2 2 6 1 2 4 4 1 1 3 2 1 5 2 0 1 2 4 1 2 0 2 1 5 4 2 4 2 1 2 3 1 2 5 4 5 2 4 1 3 1 0 1 2 1 1 3 2 2 2 2 2 2 3 5 4 2 4 3 2 3 3 5 3 2 3 2 2 3 1 0 1 1 1 2 1 3 2 4 3 1 3 2 2 1 0 2 3 3 1 2 2 1 0 2 2 1 3 0 1 5 2 0 0 3 2 3 1 3 3 3 4 5 2 1 1 0 2 0 0 2 3 4 2 4 1 1 1 2 2 5 3 1 2 2 4 4 1 3 4 1 3 3 3 2 2 3 6 2 1 1 3 4 1 1 2 3 3\n",
      "C: 3 1 1 4 4 2 3 2 3 4 2 1 2 2 2 1 2 5 3 0 2 3 2 1 0 6 3 3 2 5 2 0 3 3 2 2 1 3 4 1 1 1 5 1 0 2 3 3 2 0 4 5 2 4 1 4 2 2 3 3 3 5 3 6 4 3 3 0 2 3 5 1 4 0 4 3 2 3 4 2 3 6 2 1 3 2 2 3 3 1 1 2 3 5 1 5 0 3 2 2 1 3 1 4 5 1 1 2 1 4 4 3 2 0 2 3 1 2 4 4 5 2 5 3 2 2 2 2 3 2 3 2 1 1 2 2 4 1 3 5 4 2 1 1 5 1 2 2 2 2 4 1 1 4 5 3 1 0 1 1 0 5 0 4 2 2 3 4 4 3 4 4 4 2 3 3 1 3 4 3 3 2 1 4 5 3 3 1 4 3 3 3 2 5 4 6 2 2 3 2 2 5 3 3 2 0 5 4 3 1 2 4 1 1 1 3 4 2 3 4 2 3 2 3 2 1 3 1 2 2 1 2 2 3 3 2 2 3 4 3 3 6 2 3 3 3 3 1 1 1 2 2 1 4 4 3 2 5 5 2 1 4 3 1 2 2 1 1 2 4 1 4 2 6 4 3 4 4 5 4 4 2 5 3 3 5 3 3 3 1 1 3 2 3 2 3 3 4 0 2 3 1 2 3 4 5 4 1 3 6 1 5 1 4 3 1 2 2 5 3 1 0 1 3 1 2 6 1 1 3 0 1 4 3 4 5 3 1 7 1 2 3 3 4 3 3 3 1 1 2 3 2 2 3 6 1 3 1 3 3 1 6 2 3 1 1 2 2 1 4 3 1 2 3 1 5 2 4 4 4 2 2 1 3 1 3 0 0 2 3 2 3 2 3 2 3 1 3 5 3 1 5 3 4 0 4 5 2 5 1 3 1 2 5 4 2 2 2 4 5 5 2 2 2 1 3 3 4 1 5 3 3 5 2 5 0 4 5 1 2 1 2 2 0 3 2 2 4 2 1 0 4 2 2 2 2 2 3 3 2 4 0 7 3 3 2 5 4 4 4 3 3 1 3 1 3 0 2 2 4 3 3 2 4 4 5 1 2 1 3 2 1 3 0 1 1 2 4 3 2 1 4 1 2 4 2 2 2 2 0 2 1 5 2 1 1 3 5 4 4 0 2 3 2 4 2 3 3 4 5 0 2 2 2 0 4 1 4 1 3 2 2 0 2 1 2 4 2 3 1 3 2 4 3 1 2 0 4 3 2 2 1 1 4 2 5 1 0 3 5 2 2 3 2 2 3 1 3 1 2 4 3 5 3 2 2 3 2 1 3 1 2 3 2 4 1 1 2 2 3 4 2 3 3 0 2 3 3 1 3 1 1 1 3 1 2 3 3 4 1 1 0 3 3 5 3 3 3 5 1 5 1 2 2 2 1 3 1 4 3 3 2 2 2 1 2 0 4 4 2 4 1 2 1 3 2 4 3 3 5 2 1 4 6 1 0 2 0 1 0 3 0 0 3 1 2 2 2 2 2 3 2 3 0 3 2 1 1 2 1 0 0 0 3 5 1 3 1 1 1 1 3 4 2 1 4 5 3 2 3 3 1 4 3 2 0 2 5 2 3 1 3 1 2 1 1 3 3 2 3 4 1 1 2 3 1 2 1 1 3 3 1 2 4 2 2 3 2 2 2 1 2 1 2 3 2 3 2 4 2 3 1 3 2 5 3 2 3 3 4 0 2 2 1 4 3 2 3 3 4 3 5 2 2 3 2 2 1 3 4 3 2 4 3 2 1 2 2 2 1 1 3 0 2 1 3 2 3 2 5 3 2 3 4 1 3 3 1 3 2 1 2 2 1 2 3 2 2 1 4 4 4 1 6 2 1 3 3 1 1 4 3 5 1 3 3 2 3 2 5 3 3 5 5 0 3 2 3 6 1 1 4 3 3 4 2 1 3 2 3 4 1 2 3 4 3 4 3 3 3 1 0 3 2 2 4 1 3 2 3 2 5 2 2 4 3 3 2 4 1 4 2 1 0 4 4 3 0 0 5 4 2 0 1 2 1 2 2\n",
      "G: 2 1 4 2 2 2 3 4 3 2 1 3 2 4 0 4 3 1 3 3 1 2 1 2 3 2 0 3 4 2 3 2 3 2 2 0 1 2 3 0 3 1 3 4 3 1 1 2 5 5 0 3 2 3 2 4 3 2 1 4 1 3 4 0 1 3 4 4 3 2 3 1 1 3 1 1 4 3 1 2 1 3 3 2 3 3 3 4 4 5 3 3 4 1 5 3 3 0 3 0 4 1 1 3 2 5 4 2 1 2 4 1 5 3 1 2 2 3 5 3 0 2 2 1 2 2 3 6 3 1 3 2 3 2 1 4 1 3 2 1 2 1 3 3 2 4 2 5 3 4 0 1 2 2 2 0 2 1 1 2 6 1 3 3 1 4 3 1 4 1 3 1 3 2 3 4 5 2 2 2 2 2 3 1 0 2 2 3 3 4 1 3 1 2 0 0 2 4 2 2 4 2 2 0 3 1 2 1 2 5 3 2 3 2 3 2 3 2 0 2 4 2 4 1 4 5 2 4 4 2 4 4 5 3 2 4 2 1 2 3 4 2 3 2 5 1 1 4 3 6 3 2 3 0 2 4 4 1 2 3 3 0 2 3 3 1 3 6 3 1 2 3 4 0 2 0 4 1 4 2 2 2 4 3 2 1 3 3 0 3 3 2 4 2 3 1 4 2 3 3 2 1 2 3 1 2 3 5 3 3 1 1 4 1 3 1 3 2 2 0 3 3 4 1 5 2 1 2 4 3 2 1 4 2 1 1 2 4 2 8 3 2 1 2 2 2 2 3 3 1 1 3 3 3 0 2 2 2 2 2 2 1 5 3 6 6 4 2 1 1 3 2 1 2 2 1 2 2 1 1 3 3 2 1 1 2 5 1 2 1 4 4 2 1 1 1 4 2 0 3 3 0 2 2 2 4 2 3 1 2 2 4 2 0 2 0 1 5 2 3 1 3 3 0 4 2 2 2 3 2 1 3 2 5 3 3 2 1 4 3 4 3 2 3 3 4 2 3 4 4 4 3 2 3 3 2 2 3 1 3 2 4 1 4 3 4 1 4 1 1 0 3 3 2 2 2 3 3 2 1 2 2 1 3 2 1 2 2 4 3 4 1 4 4 5 5 4 0 1 1 2 4 3 2 0 3 3 1 2 5 4 4 0 1 4 3 4 0 1 0 4 2 2 3 1 2 1 3 3 3 4 1 2 2 5 4 6 3 2 3 1 3 1 1 7 0 2 2 3 4 3 2 3 3 3 4 2 2 2 1 3 5 2 2 3 0 0 4 3 1 3 5 2 4 4 1 4 4 3 4 3 2 2 1 5 2 6 1 3 3 4 4 4 3 2 3 1 4 3 2 2 2 2 1 5 5 4 2 2 1 3 4 5 2 4 3 2 2 1 3 2 3 2 0 2 2 2 3 3 1 2 3 3 3 5 3 4 3 5 3 2 3 3 3 4 2 5 3 1 2 1 1 0 2 1 2 3 1 0 1 5 0 4 2 2 3 1 3 4 4 2 2 5 1 6 3 3 1 0 4 1 2 2 2 2 3 3 2 2 5 2 4 4 3 2 1 3 2 1 2 1 4 1 5 3 3 3 1 2 3 2 3 1 5 1 5 4 1 4 2 4 2 7 0 2 2 4 1 3 1 2 2 4 3 3 3 2 3 2 2 2 3 3 2 3 3 2 3 3 2 3 4 4 2 3 2 1 1 2 4 2 2 1 5 3 2 2 4 4 3 3 3 1 1 2 3 1 0 3 2 3 2 4 1 1 2 2 3 0 2 2 4 1 0 2 3 4 1 4 4 3 3 5 4 4 1 1 3 3 2 3 4 3 2 4 0 2 2 2 5 4 1 0 3 2 0 3 3 1 2 4 3 3 0 4 8 2 2 2 4 1 1 0 2 4 4 1 2 4 1 2 3 2 4 4 0 6 1 2 4 3 2 4 3 1 6 2 4 2 4 2 2 2 2 1 1 3 4 4 3 5 4 2 5 2 4 6 4 2 3 2 2 5 2 2 2 0 3 3 4 2 3 1 3 1 1 3 3 4 2 4 0 4 4 3 3 2 2\n",
      "T: 5 5 3 2 2 4 3 3 3 3 4 6 3 3 8 4 2 1 2 3 4 5 5 5 5 0 3 2 1 3 2 6 4 4 2 2 1 2 1 6 4 5 1 0 3 4 2 1 1 5 2 2 5 2 5 0 3 2 2 1 3 1 0 3 2 3 0 2 1 1 0 4 4 4 5 5 2 3 4 5 3 1 1 4 3 4 0 2 1 4 1 2 2 1 3 1 5 3 4 4 3 5 4 0 2 3 1 4 4 3 1 3 3 5 5 2 4 3 0 2 2 3 2 3 3 2 3 1 2 4 2 5 2 4 1 2 3 2 4 2 3 5 3 6 1 4 4 2 3 2 2 6 2 1 1 6 4 4 2 3 2 3 5 2 3 1 3 0 0 0 2 3 0 3 1 1 2 4 3 4 2 5 2 5 3 2 3 4 0 1 2 3 5 1 2 2 2 2 3 1 2 2 4 2 2 5 2 1 2 0 2 1 3 3 2 2 2 4 4 2 3 3 2 5 3 3 2 2 2 3 2 2 2 2 2 2 4 6 2 1 1 1 4 3 0 5 3 2 2 1 2 3 2 2 2 2 1 3 2 4 3 3 3 3 3 4 5 0 3 1 1 0 2 2 1 1 2 0 1 0 1 1 1 2 5 4 1 2 5 3 4 4 1 2 3 4 1 1 4 1 2 5 2 3 5 2 1 1 1 0 3 2 3 3 1 5 3 2 1 5 1 4 1 4 3 6 2 3 0 3 4 4 2 3 5 3 3 2 0 1 3 1 3 2 1 4 4 3 1 5 2 5 0 2 2 3 3 3 3 3 4 2 1 3 1 1 2 3 4 3 1 4 2 2 2 2 3 1 3 4 2 2 0 4 6 1 2 5 4 2 2 1 4 4 5 3 2 2 2 1 0 3 4 4 5 2 1 2 3 2 3 2 3 1 3 3 2 0 2 1 4 3 1 6 5 0 3 1 3 2 3 2 0 2 1 2 0 4 3 4 2 1 2 3 2 1 2 2 3 3 4 1 4 3 3 4 4 3 3 2 3 5 1 1 0 1 1 1 4 4 6 3 2 4 4 3 4 4 5 3 4 3 4 1 1 2 5 3 5 2 3 6 1 4 1 1 2 3 3 3 5 2 4 3 2 1 2 3 1 1 3 3 3 3 3 3 3 0 2 4 2 4 3 2 4 4 4 2 1 2 3 4 1 4 2 1 1 2 5 1 5 2 4 1 0 6 4 2 0 4 3 2 2 2 3 2 6 1 4 4 2 2 1 2 1 5 3 5 3 1 2 1 4 1 1 2 3 1 3 1 2 4 1 2 2 5 0 2 2 2 3 2 3 3 1 2 4 2 2 3 1 2 1 4 4 3 3 2 5 3 1 2 2 3 1 3 3 2 2 3 2 4 3 3 2 4 2 1 1 5 0 2 1 3 1 3 2 5 0 2 1 0 2 2 4 5 0 1 1 3 2 3 6 5 5 4 2 4 3 1 2 5 0 0 2 1 5 4 2 2 1 7 2 1 1 2 2 2 1 2 3 4 3 6 3 3 3 3 1 2 3 2 3 4 0 5 4 3 4 3 5 1 1 2 5 2 0 2 4 2 2 4 4 0 4 3 4 3 3 4 1 2 1 2 4 3 0 1 2 2 3 2 2 3 3 3 4 4 4 3 4 2 3 1 4 3 2 2 3 4 3 1 4 5 3 4 3 3 2 2 3 5 0 2 0 1 2 2 2 0 5 4 2 6 4 3 5 3 3 2 4 1 3 2 2 4 2 4 6 2 2 3 3 2 2 1 2 3 3 2 5 4 4 2 4 5 4 2 3 1 2 2 2 1 0 3 3 3 2 1 2 4 3 3 4 4 3 3 5 3 2 2 5 3 2 0 2 3 3 2 4 3 3 5 2 3 5 2 1 3 3 2 2 1 4 5 1 3 2 4 1 2 3 4 2 0 4 2 3 0 1 3 1 3 4 5 3 1 3 4 2 3 1 1 2 1 2 2 4 2 1 0 2 4 2 1 3 4 0 1 3 2 5 4 3 3 1 1 4 2 1 5 2 4 4 4 3 3\n",
      "\n",
      "Consensus String: TTGCCTCGCCTTAGTGACCATTTTTCACGCATTTAAAACTTTCAATAAGGACTCTCGAAGACGCCCGAAACACTTTGCCTACATCTAGGGAAGCGCTATAGTACCGATACCAGTTATGGCCACAAAGGCTCTATAGCATCCTATCGTGGGATACCTTAAAGCTCAGCACACCCAAGGTCTATATCACTCGACTCACAGCAGCTAATCAAGACAAAACTTCGCGTGGAGGAGGGCAGTTCAGCTCGTAGAGAAAACGGCCTACCAGTTGGAACGCCACACACACCTCACTATTGAGTGCTAATACTCCGACACGCATGACTATATGTCAACAACCTCCGCGGAACATTAATATACCACACCTCGCGGGAACATAAACACCCAAATTAGTTAGGTTTAGACAACTCTCCACACGACCAAGCCCGATTACCACACCGCAACGTGAAACGACGGGCTGGTTCAACTCGAGCCCCTCATTCTTTCTCTCCCTATCGTGGGGGCAATCTAAAAAAGGGCAGAGACCATCACTTCCCGTATGCGCTATAAAGTCAAGCACCAGTCTTAGACACATCCAGTGGAGGAGCTCAGTGAACGGGGCAAGACCAATGGGATAAGGCAGCACAATCACTAACTCAAGGAGTGCAAAAGTACAACATTTTCTACGTCCAATTGAATGAGAAAAGATCTCGAAAGAAGTCTTAAATGAGTCCATCATCGTGGCGTAAGATAGAAACAGGCATTTCTAGCTGAAGTAGGTCTAACGCTAGCAAGGCTTATCCTACCTCGAATATTCAGCAAAGAGGTTGGGTTCGCCGCCAACAAGGTAATTGGTCCCTCGGACAGCACTGGTAGCCCCCGTGACGACGTCGTGAGCAACCTCGGTGGAGACGGTCACGTCAATCACATTCCAAGCCTAGTTAA\n"
     ]
    }
   ],
   "source": [
    "consensus_profile_generator(sequence_list2, sequences_length2, profile_matrix2)"
   ]
  },
  {
   "cell_type": "markdown",
   "metadata": {},
   "source": [
    "## Problem Code and its problems\n",
    "\n",
    "def profile_matrix_generator(list_of_sequences, length_of_sequences, matrix):\n",
    "    for string in list_of_sequences:\n",
    "        for i in range(length_of_sequences):\n",
    "            if string[i] == 'A':\n",
    "                matrix[0][i] += 1\n",
    "            elif string[i] == 'C':\n",
    "                matrix[1][i] += 1\n",
    "            elif string[i] == 'G':\n",
    "                matrix[2][i] += 1\n",
    "            elif string[i] == 'T':\n",
    "                matrix[3][i] += 1\n",
    "    #return matrix\n",
    "\n",
    "    # Labels for the rows\n",
    "    labels = ['A:', 'C:', 'G:', 'T:']\n",
    "\n",
    "    # Loop through each row and print with the corresponding label\n",
    "    for i, row in enumerate(matrix):\n",
    "        # Join the row elements as a string of space-separated integers\n",
    "        row_str = ' '.join(map(str, row))\n",
    "        # Loop through each column to find the maximum value\n",
    "        for j in range(matrix.shape[1]):\n",
    "            max_value = max(matrix[:, j])\n",
    "        # Print the label in the form of a string\n",
    "        string_base = labels{max_value.index}.rstrip(\": \")\n",
    "        print(string_base)\n",
    "        # Print the label followed by the row\n",
    "        print(f\"{labels[i]} {row_str}\")\n",
    "\n",
    "Getting the Max Value in Each Column: In the code, you’re looping through each column but only finding the maximum value without determining which base has that maximum count. You’ll need to identify the index of the maximum value in each column, which corresponds to the base (A, C, G, or T).\n",
    "\n",
    "Accessing Labels for Consensus String: Instead of labels{max_value.index}, you should use indexing with square brackets (labels[max_index]), and for each column, you need to find the base with the highest count.\n",
    "\n",
    "Constructing the Consensus String: You can build the consensus string by appending the base with the highest count for each column."
   ]
  }
 ],
 "metadata": {
  "kaggle": {
   "accelerator": "none",
   "dataSources": [
    {
     "datasetId": 5814766,
     "sourceId": 9544647,
     "sourceType": "datasetVersion"
    },
    {
     "datasetId": 6005713,
     "sourceId": 9799515,
     "sourceType": "datasetVersion"
    }
   ],
   "dockerImageVersionId": 30786,
   "isGpuEnabled": false,
   "isInternetEnabled": true,
   "language": "python",
   "sourceType": "notebook"
  },
  "kernelspec": {
   "display_name": "Python 3 (ipykernel)",
   "language": "python",
   "name": "python3"
  },
  "language_info": {
   "codemirror_mode": {
    "name": "ipython",
    "version": 3
   },
   "file_extension": ".py",
   "mimetype": "text/x-python",
   "name": "python",
   "nbconvert_exporter": "python",
   "pygments_lexer": "ipython3",
   "version": "3.11.5"
  }
 },
 "nbformat": 4,
 "nbformat_minor": 4
}
