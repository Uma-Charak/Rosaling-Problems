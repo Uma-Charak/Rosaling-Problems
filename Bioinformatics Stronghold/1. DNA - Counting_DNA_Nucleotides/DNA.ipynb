{
 "cells": [
  {
   "cell_type": "markdown",
   "id": "86d29d84",
   "metadata": {},
   "source": [
    "### Counting DNA Nucleotides\n",
    "**Problem:**\n",
    "A string is simply an ordered collection of symbols selected from some alphabet and formed into a word; the length of a string is the number of symbols that it contains.\n",
    "\n",
    "An example of a length 21 DNA string (whose alphabet contains the symbols 'A', 'C', 'G', and 'T') is \"ATGCTTCAGAAAGGTCTTACG.\"\n",
    "\n",
    "**Given:**  A DNA string ***s*** of length at most 1000 nt.\n",
    "\n",
    "**Return:**  Four integers (separated by spaces) counting the respective number of times that the symbols 'A', 'C', 'G', and 'T' occur in ***s***."
   ]
  },
  {
   "cell_type": "code",
   "execution_count": 9,
   "id": "5d9fdf7f",
   "metadata": {},
   "outputs": [],
   "source": [
    "# Import Required Libraries\n",
    "\n",
    "from collections import Counter"
   ]
  },
  {
   "cell_type": "code",
   "execution_count": 6,
   "id": "eb8e2d5d",
   "metadata": {},
   "outputs": [],
   "source": [
    "# Function definitions\n",
    "\n",
    "def nucleotide_count_method1(string):\n",
    "    '''\n",
    "    Count nucleotides using the string.count() method.\n",
    "    '''    \n",
    "    A = string.count('A')\n",
    "    T = string.count('T')\n",
    "    G = string.count('G')\n",
    "    C = string.count('C')\n",
    "    return str(A)+\" \"+str(C)+\" \"+str(G)+\" \"+str(T)\n",
    "\n",
    "\n",
    "def nucleotide_count_method2(string):\n",
    "    '''\n",
    "    Count nucleotides using a dictionary and iteration.\n",
    "    '''\n",
    "    count_dict = {}.fromkeys(list('ACGT'),0)\n",
    "    for nucleotide in string:\n",
    "        if nucleotide in count_dict:\n",
    "            count_dict[nucleotide] += 1\n",
    "    return f\"{count_dict['A']} {count_dict['C']} {count_dict['G']} {count_dict['T']}\"\n",
    "\n",
    "\n",
    "def nucleotide_count_method3(string):\n",
    "    '''\n",
    "    Count nucleotides using the Counter from the collections module.\n",
    "    '''\n",
    "    nuc_count = Counter(string)\n",
    "    return f\"{nuc_count['A']} {nuc_count['T']} {nuc_count['G']} {nuc_count['C']}\""
   ]
  },
  {
   "cell_type": "code",
   "execution_count": 10,
   "id": "de27dc08",
   "metadata": {},
   "outputs": [],
   "source": [
    "# File reading\n",
    "dna_string_path = 'problem1_input.txt'\n",
    "\n",
    "with open(dna_string_path, 'r') as file:\n",
    "    dna_string = file.read().strip()"
   ]
  },
  {
   "cell_type": "code",
   "execution_count": 11,
   "id": "633b8e8c",
   "metadata": {},
   "outputs": [
    {
     "name": "stdout",
     "output_type": "stream",
     "text": [
      "Method 1 (string.count):\n",
      "206 213 185 208\n",
      "\n",
      "Method 2 (dictionary iteration):\n",
      "206 213 185 208\n",
      "\n",
      "Method 3 (Counter from collections):\n",
      "206 208 185 213\n"
     ]
    }
   ],
   "source": [
    "# Print results using all methods\n",
    "print(\"Method 1 (string.count):\")\n",
    "print(nucleotide_count_method1(dna_string))\n",
    "\n",
    "print(\"\\nMethod 2 (dictionary iteration):\")\n",
    "print(nucleotide_count_method2(dna_string))\n",
    "\n",
    "print(\"\\nMethod 3 (Counter from collections):\")\n",
    "print(nucleotide_count_method3(dna_string))"
   ]
  },
  {
   "cell_type": "code",
   "execution_count": null,
   "id": "ca90f45d",
   "metadata": {},
   "outputs": [],
   "source": []
  }
 ],
 "metadata": {
  "kernelspec": {
   "display_name": "Python 3 (ipykernel)",
   "language": "python",
   "name": "python3"
  },
  "language_info": {
   "codemirror_mode": {
    "name": "ipython",
    "version": 3
   },
   "file_extension": ".py",
   "mimetype": "text/x-python",
   "name": "python",
   "nbconvert_exporter": "python",
   "pygments_lexer": "ipython3",
   "version": "3.11.5"
  }
 },
 "nbformat": 4,
 "nbformat_minor": 5
}
