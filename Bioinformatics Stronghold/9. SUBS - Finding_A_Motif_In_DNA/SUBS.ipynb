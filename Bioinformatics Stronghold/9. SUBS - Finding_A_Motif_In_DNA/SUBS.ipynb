{
 "cells": [
  {
   "cell_type": "markdown",
   "id": "d343078d",
   "metadata": {},
   "source": [
    "### Findin a Motif in DNA\n",
    "\n",
    "**Problem:**\n",
    "Given two strings ***s*** and ***t***, ***t*** is a substring of ***s*** if ***t*** is contained as a contiguous collection of symbols in ***s*** (as a result, ***t*** must be no longer than ***s***).\n",
    "\n",
    "The position of a symbol in a string is the total number of symbols found to its left, including itself (e.g., the positions of all occurrences of 'U' in \"AUGCUUCAGAAAGGUCUUACG\" are 2, 5, 6, 15, 17, and 18). The symbol at position i of ***s*** is denoted by ***s[i]***.\n",
    "\n",
    "A substring of ***s*** can be represented as ***s[j:k]***, where ***j*** and ***k*** represent the starting and ending positions of the substring in ***s***; for example, if ***s*** = \"AUGCUUCAGAAAGGUCUUACG\", then ***s[2:5]*** = \"UGCU\".\n",
    "\n",
    "The location of a substring ***s[j:k]*** is its beginning position ***j***; note that ***t*** will have multiple locations in ***s*** if it occurs more than once as a substring of ***s***.\n",
    "\n",
    "**Given:** Two DNA strings ***s*** and ***t*** (each of length at most 1 kbp).\n",
    "\n",
    "**Return:** All locations of ***t*** as a substring of ***s***."
   ]
  },
  {
   "cell_type": "code",
   "execution_count": 6,
   "id": "a8787c9d",
   "metadata": {},
   "outputs": [],
   "source": [
    "#10. SUBS: Finding a Motif in DNA\n",
    "\n",
    "def subFinder(inputFile):\n",
    "    '''\n",
    "    Identifies and returns offsets at which a motif occurs in a given DNA string.\n",
    "    '''\n",
    "    with open(inputFile, 'r') as file:\n",
    "        dna_string = file.readline().strip()\n",
    "        motif = file.readline().strip()\n",
    "    \n",
    "    occurrences = []\n",
    "    \n",
    "    for i in range(len(dna_string) - len(motif) + 1):  # loop over alignments\n",
    "        match = True\n",
    "        for j in range(len(motif)):  # loop over characters\n",
    "            if dna_string[i+j] != motif[j]:  # compare characters\n",
    "                match = False\n",
    "                break\n",
    "        if match:\n",
    "            occurrences.append(i+1)  # all chars matched; record\n",
    "    \n",
    "    result = ' '.join((map(str,occurrences)))\n",
    "    return result\n",
    "    "
   ]
  },
  {
   "cell_type": "code",
   "execution_count": 7,
   "id": "615bf2f5",
   "metadata": {},
   "outputs": [],
   "source": [
    "# Input file path\n",
    "\n",
    "subs_file_path = 'problem9_input.txt'"
   ]
  },
  {
   "cell_type": "code",
   "execution_count": 8,
   "id": "bb36324c",
   "metadata": {},
   "outputs": [
    {
     "name": "stdout",
     "output_type": "stream",
     "text": [
      "93 102 155 162 189 259 286 353 462 488 504 523 570 611 620 636 683 782 789 822 829 891 898 934\n"
     ]
    }
   ],
   "source": [
    "# Call the function and output result\n",
    "\n",
    "print(subFinder(subs_file_path))"
   ]
  },
  {
   "cell_type": "code",
   "execution_count": null,
   "id": "9705595f",
   "metadata": {},
   "outputs": [],
   "source": []
  }
 ],
 "metadata": {
  "kernelspec": {
   "display_name": "Python 3 (ipykernel)",
   "language": "python",
   "name": "python3"
  },
  "language_info": {
   "codemirror_mode": {
    "name": "ipython",
    "version": 3
   },
   "file_extension": ".py",
   "mimetype": "text/x-python",
   "name": "python",
   "nbconvert_exporter": "python",
   "pygments_lexer": "ipython3",
   "version": "3.11.5"
  }
 },
 "nbformat": 4,
 "nbformat_minor": 5
}
