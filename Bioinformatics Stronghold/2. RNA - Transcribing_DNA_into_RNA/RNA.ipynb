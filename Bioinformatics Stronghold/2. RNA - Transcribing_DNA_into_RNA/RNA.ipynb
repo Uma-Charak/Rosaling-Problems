{
 "cells": [
  {
   "cell_type": "markdown",
   "id": "b7821460",
   "metadata": {},
   "source": [
    "### Transcribing DNA into RNA\n",
    "**Problem:**\n",
    "An RNA string is a string formed from the alphabet containing 'A', 'C', 'G', and 'U'.Given a DNA string ***t*** corresponding to a coding strand, its transcribed RNA string ***u*** is formed by replacing all occurrences of 'T' in ***t*** with 'U' in ***u***.\n",
    "\n",
    "**Given:** A DNA string ***t*** having length at most 1000 nt.\n",
    "\n",
    "**Return:** The transcribed RNA string of ***t***."
   ]
  },
  {
   "cell_type": "code",
   "execution_count": 7,
   "id": "1ce5afb2",
   "metadata": {},
   "outputs": [
    {
     "name": "stdout",
     "output_type": "stream",
     "text": [
      "GAUCUCUGUGCGGAAUCCCUAGGCGAAUGGUAGUUUCUAAACGCCCGAUAAGCUUGAGCAGAGGAAAAAGAAGGGCCCUGGACAGCUUACGUUGACUCAAACCAUCGAUAUACGGGACCCAAUCUGUACGUCACAGGACUUGCUUGCACAGAUCUAUGGGUUCGAGUGGCGUUAACCAGUGUCUCAAUAGGGGCUGGUUGCUCCGCCAUUCACCGACUCCCGACAAGAUCUCUCUGGCUCGAGGUGGCUGUUAAGCCCCAACGGCUAUUUCAAAUCUUGUAGGCCAACUCGGGCACCCCGAAGGCCUUCAUGUUGUAAUGGUUCCUCGUCCGCCUACCUGGGCGCGGGCCUCUCGAGUCAUAAAAUGCGUCGCAUCCCCAUGCCGGUUAUGCCAAAAACCCAACGGUUGAUGGUCCCGGAUGGCCCGCGCAAGGCGUCAAAUCUUAGACACCAUCUGAGUAGAGCCCGUACUACAGCCAUGUGGUUGGCAUGUCAACCCCAUAAGAACGAGAAGCAAACCCUCUUGCUCGAGUUUUCCGUACAGGCUCAACUACCACCGUUCUCCCCAGUCAGCCGACUACCUACUGCGCCGGUGACCAUCACCGUGCACCGUGCGCCUGAGUUUGAUUGGACAACGUCCGCACCCGAUGGUGCGUGUAAUCUAACCCGCGUAUGGAAAUCAUGAUCGACUGGUACGCUCUAGAGCGUGUUGGAACUCAUAACUUCUUCUAUAUCUUACGUGGCCAAAAAGUGCUAGCUACCAAUGUAUAGGUUACGCUGAGCACCAGACCUUACUGCCCGCCCCGGAGUAAUGAAUAGCAGGUUGCAUAAUCCAGUCAGCCGUUUAGGACGUCUCGUUUGCCAAUGUGGGAAUGUGAGGUAAUGAUUUUAUUCAAACUGUUCACCGAUUAAAGCUAACGCUUGGGCCCACCACUGUUUAGCA\n"
     ]
    }
   ],
   "source": [
    "# File reading and Implementation\n",
    "\n",
    "dna_string_path = 'problem2_input.txt'\n",
    "\n",
    "with open(dna_string_path, 'r') as file:\n",
    "    dna_string = file.read().strip()\n",
    "    rna_string = dna_string.replace('T', 'U')\n",
    "    print(rna_string)"
   ]
  },
  {
   "cell_type": "code",
   "execution_count": null,
   "id": "360d7032",
   "metadata": {},
   "outputs": [],
   "source": []
  }
 ],
 "metadata": {
  "kernelspec": {
   "display_name": "Python 3 (ipykernel)",
   "language": "python",
   "name": "python3"
  },
  "language_info": {
   "codemirror_mode": {
    "name": "ipython",
    "version": 3
   },
   "file_extension": ".py",
   "mimetype": "text/x-python",
   "name": "python",
   "nbconvert_exporter": "python",
   "pygments_lexer": "ipython3",
   "version": "3.11.5"
  }
 },
 "nbformat": 4,
 "nbformat_minor": 5
}
