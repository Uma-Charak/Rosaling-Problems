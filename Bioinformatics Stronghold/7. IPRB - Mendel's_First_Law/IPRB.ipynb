{
 "cells": [
  {
   "cell_type": "markdown",
   "id": "d65801ff",
   "metadata": {},
   "source": [
    "### Mendel's First Law\n",
    "\n",
    "![alt text](balls_tree.thumb.png)\n",
    "\n",
    "**Figure:** The probability of any outcome (leaf) in a probability tree diagram is given by the product of probabilities from the start of the tree to the outcome. For example, the probability that X is blue and Y is blue is equal to ($\\frac{2}{5}$)($\\frac{1}{4}$), or $\\frac{1}{10}$.\n",
    "\n",
    "**Problem:**\n",
    "Probability is the mathematical study of randomly occurring phenomena. We will model such a phenomenon with a random variable, which is simply a variable that can take a number of different distinct outcomes depending on the result of an underlying random process.\n",
    "\n",
    "For example, say that we have a bag containing 3 red balls and 2 blue balls. If we let X represent the random variable corresponding to the color of a drawn ball, then the probability of each of the two outcomes is given by ***Pr(X=red)=35*** and ***Pr(X=blue)=$\\frac{2}{5}$***.\n",
    "\n",
    "Random variables can be combined to yield new random variables. Returning to the ball example, let Y model the color of a second ball drawn from the bag (without replacing the first ball). The probability of Y being red depends on whether the first ball was red or blue. To represent all outcomes of X and Y, we therefore use a probability tree diagram. This branching diagram represents all possible individual probabilities for X and Y, with outcomes at the endpoints (\"leaves\") of the tree. The probability of any outcome is given by the product of probabilities along the path from the beginning of the tree; see Figure for an illustrative example.\n",
    "\n",
    "An event is simply a collection of outcomes. Because outcomes are distinct, the probability of an event can be written as the sum of the probabilities of its constituent outcomes. For our colored ball example, let A be the event \"Y is blue.\" Pr(A) is equal to the sum of the probabilities of two different outcomes: ***Pr(X=blue and Y=blue) + Pr(X=red and Y=blue)***, or ***$\\frac{3}{10}$+$\\frac{1}{10}$=$\\frac{2}{5}$*** (see Figure above).\n",
    "\n",
    "**Given:** Three positive integers ***k***, ***m***, and ***n***, representing a population containing ***k+m+n*** organisms: ***k*** individuals are homozygous dominant for a factor, ***m*** are heterozygous, and ***n*** are homozygous recessive.\n",
    "\n",
    "**Return:** The probability that two randomly selected mating organisms will produce an individual possessing a dominant allele (and thus displaying the dominant phenotype). Assume that any two organisms can mate."
   ]
  },
  {
   "cell_type": "code",
   "execution_count": 11,
   "id": "de04e9fc",
   "metadata": {},
   "outputs": [],
   "source": [
    "# Function Definition\n",
    "\n",
    "def mendelLaw(inputFile):\n",
    "    '''\n",
    "    Calculates the probability of producing an offspring with a dominant allele,\n",
    "    given the counts of homozygous dominant, heterozygous, and homozygous recessive \n",
    "    individuals in a population.\n",
    "    '''\n",
    "    # File Reading\n",
    "    with open(inputFile, 'r') as file:\n",
    "        data = list(map(int, file.read().strip().split()))\n",
    "        \n",
    "    # Variable Assignment\n",
    "    k, m, n = data\n",
    "    \n",
    "    # Total population\n",
    "    population = k + m + n\n",
    "\n",
    "    # Probabilities of each type pairing\n",
    "    # Two homozygous dominant (k * (k - 1)): 100% chance of dominant phenotype\n",
    "    kk = (k / population) * ((k - 1) / (population - 1))\n",
    "\n",
    "    # One homozygous dominant, one heterozygous (k * m): 100% chance of dominant phenotype\n",
    "    km = 2 * (k / population) * (m / (population - 1))\n",
    "\n",
    "    # One homozygous dominant, one homozygous recessive (k * n): 100% chance of dominant phenotype\n",
    "    kn = 2 * (k / population) * (n / (population - 1))\n",
    "\n",
    "    # Two heterozygous (m * (m - 1)): 75% chance of dominant phenotype\n",
    "    mm = (m / population) * ((m - 1) / (population - 1)) * 0.75\n",
    "\n",
    "    # One heterozygous, one homozygous recessive (m * n): 50% chance of dominant phenotype\n",
    "    mn = 2 * (m / population) * (n / (population - 1)) * 0.5\n",
    "\n",
    "    # Two homozygous recessive (n * (n - 1)): 0% chance of dominant phenotype, so no need to add\n",
    "\n",
    "    # Sum all probabilities to get the total probability of a dominant phenotype\n",
    "    dominant_probability = kk + km + kn + mm + mn\n",
    "\n",
    "    return round(dominant_probability, 5)\n",
    "\n"
   ]
  },
  {
   "cell_type": "code",
   "execution_count": 12,
   "id": "ca70120c",
   "metadata": {},
   "outputs": [],
   "source": [
    "# File path to input data\n",
    "\n",
    "input_file = 'problem7_input.txt'"
   ]
  },
  {
   "cell_type": "code",
   "execution_count": 13,
   "id": "b62ab7e4",
   "metadata": {
    "scrolled": true
   },
   "outputs": [
    {
     "name": "stdout",
     "output_type": "stream",
     "text": [
      "0.72277\n"
     ]
    }
   ],
   "source": [
    "# Test the function and print output\n",
    "\n",
    "print(mendelLaw(input_file))"
   ]
  }
 ],
 "metadata": {
  "kernelspec": {
   "display_name": "Python 3 (ipykernel)",
   "language": "python",
   "name": "python3"
  },
  "language_info": {
   "codemirror_mode": {
    "name": "ipython",
    "version": 3
   },
   "file_extension": ".py",
   "mimetype": "text/x-python",
   "name": "python",
   "nbconvert_exporter": "python",
   "pygments_lexer": "ipython3",
   "version": "3.11.5"
  }
 },
 "nbformat": 4,
 "nbformat_minor": 5
}
