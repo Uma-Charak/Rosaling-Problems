{
 "cells": [
  {
   "cell_type": "markdown",
   "id": "d18d3d15",
   "metadata": {},
   "source": [
    "### Computing GC Content\n",
    "**Problem:**\n",
    "The GC-content of a DNA string is given by the percentage of symbols in the string that are 'C' or 'G'. For example, the GC-content of \"AGCTATAG\" is 37.5%. Note that the reverse complement of any DNA string has the same GC-content.\n",
    "\n",
    "DNA strings must be labeled when they are consolidated into a database. A commonly used method of string labeling is called FASTA format. In this format, the string is introduced by a line that begins with '>', followed by some labeling information. Subsequent lines contain the string itself; the first line to begin with '>' indicates the label of the next string.\n",
    "\n",
    "In Rosalind's implementation, a string in FASTA format will be labeled by the ID \"Rosalind_xxxx\", where \"xxxx\" denotes a four-digit code between 0000 and 9999.\n",
    "\n",
    "**Given:** At most 10 DNA strings in FASTA format (of length at most 1 kbp each).\n",
    "\n",
    "**Return:** The ID of the string having the highest GC-content, followed by the GC-content of that string. Rosalind allows for a default error of 0.001 in all decimal answers unless otherwise stated."
   ]
  },
  {
   "cell_type": "code",
   "execution_count": 1,
   "id": "95432fe0",
   "metadata": {},
   "outputs": [],
   "source": [
    "# Import relevant libraries\n",
    "\n",
    "from Bio import SeqIO\n",
    "from Bio.SeqUtils import gc_fraction"
   ]
  },
  {
   "cell_type": "code",
   "execution_count": 11,
   "id": "57e50b6b",
   "metadata": {},
   "outputs": [],
   "source": [
    "# File path assignment\n",
    "fasta_file_path = 'problem5_input.txt'"
   ]
  },
  {
   "cell_type": "code",
   "execution_count": 13,
   "id": "5eaf84b5",
   "metadata": {},
   "outputs": [],
   "source": [
    "# Function definition\n",
    "\n",
    "def gc_computation(fasta_file):\n",
    "    '''\n",
    "    Computes the GC-content of DNA sequences in a FASTA file and identifies the ID of the sequence with the highest GC-content.\n",
    "    '''  \n",
    "    \n",
    "    # To store the ID and GC content of each sequence\n",
    "    gc_contents = {}\n",
    "\n",
    "    for record in SeqIO.parse(fasta_file, \"fasta\"):\n",
    "        # Compute the GC content as a percentage\n",
    "        gc_content = gc_fraction(record.seq) * 100\n",
    "        # Store the GC content with the corresponding ID\n",
    "        gc_contents[record.id] = gc_content\n",
    "\n",
    "    # Find the sequence with the highest GC content\n",
    "    highest_gc_id = max(gc_contents, key=gc_contents.get)\n",
    "    highest_gc_value = gc_contents[highest_gc_id]\n",
    "\n",
    "    # Return the result as a formatted string\n",
    "    return str(highest_gc_id) + \"\\n\" + str(highest_gc_value)"
   ]
  },
  {
   "cell_type": "code",
   "execution_count": 14,
   "id": "dbc3170a",
   "metadata": {},
   "outputs": [
    {
     "name": "stdout",
     "output_type": "stream",
     "text": [
      "Rosalind_6229\n",
      "50.39370078740157\n"
     ]
    }
   ],
   "source": [
    "# Call function on given input file\n",
    "print(gc_computation(fasta_file_path))"
   ]
  }
 ],
 "metadata": {
  "kernelspec": {
   "display_name": "Python 3 (ipykernel)",
   "language": "python",
   "name": "python3"
  },
  "language_info": {
   "codemirror_mode": {
    "name": "ipython",
    "version": 3
   },
   "file_extension": ".py",
   "mimetype": "text/x-python",
   "name": "python",
   "nbconvert_exporter": "python",
   "pygments_lexer": "ipython3",
   "version": "3.11.5"
  }
 },
 "nbformat": 4,
 "nbformat_minor": 5
}
