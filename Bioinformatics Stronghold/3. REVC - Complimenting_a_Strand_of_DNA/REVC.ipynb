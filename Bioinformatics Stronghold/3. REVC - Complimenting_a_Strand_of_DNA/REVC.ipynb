{
 "cells": [
  {
   "cell_type": "markdown",
   "id": "4b6a0a4a",
   "metadata": {},
   "source": [
    "### Complimenting a strand of DNA\n",
    "**Problem:**\n",
    "In DNA strings, symbols 'A' and 'T' are complements of each other, as are 'C' and 'G'.\n",
    "\n",
    "The reverse complement of a DNA string ***s*** is the string ***s<sup>c</sup>*** formed by reversing the symbols of ***s***, then taking the complement of each symbol (e.g., the reverse complement of \"GTCA\" is \"TGAC\").\n",
    "\n",
    "**Given:** A DNA string ***s*** of length at most 1000 bp.\n",
    "\n",
    "**Return:** The reverse complement ***s<sup>c</sup>*** of ***s***."
   ]
  },
  {
   "cell_type": "code",
   "execution_count": 21,
   "id": "a7732b01",
   "metadata": {},
   "outputs": [],
   "source": [
    "# Import Relevant Libraries\n",
    "\n",
    "from Bio.Seq import Seq"
   ]
  },
  {
   "cell_type": "code",
   "execution_count": 22,
   "id": "a9a98954",
   "metadata": {},
   "outputs": [],
   "source": [
    "# File Reading\n",
    "\n",
    "dna_string_path = 'problem3_input.txt'"
   ]
  },
  {
   "cell_type": "markdown",
   "id": "eac4822d",
   "metadata": {},
   "source": [
    "##### Method 01: Custom Dictionary Approach"
   ]
  },
  {
   "cell_type": "code",
   "execution_count": 17,
   "id": "5b8e5e65",
   "metadata": {},
   "outputs": [],
   "source": [
    "def reverse_complement(string):\n",
    "    '''\n",
    "    Returns the reverse complement of a DNA string\n",
    "    '''\n",
    "    rc_dict = {'A':'T', 'C':'G', 'G':'C', 'T':'A', '\\n':'\\n'}\n",
    "    t = ''\n",
    "    for base in string:\n",
    "        t = rc_dict[base] + t # Reverse the complement\n",
    "    return t"
   ]
  },
  {
   "cell_type": "code",
   "execution_count": 18,
   "id": "b05dce81",
   "metadata": {},
   "outputs": [
    {
     "name": "stdout",
     "output_type": "stream",
     "text": [
      "ACTCGCTATGCATAGATTACGGAACTCCTGTAACGGGGGTAACACTGGCACATCGTTGAACTCGAAGCTAACCCGGCTGATCGTTGGAGTCGACACTTTTGAGACCGACTGGATCACTCCTATGCATGTCCACTAACGCGTATCTACATACCTCATCATACTGTCAGAGGGTCAACGCCCCGCAGGCAAAAGCGTCTGAATCCATCTGCTGGAAAGAAGGTGTCGATTTGATACTGTGCGTTATGTTACAGCTAGAATGCCACAACCTCCCTAGGGCGGGGTGAGCAATGCCCTGTCATACCCTGGCAATCACGTGTAATTCTAAGACCCGGTAGCACCCTGTGACCTAGGCCAAAACGACATATCCCACCAAACGCCGGCTGTTAGGCGTAGAACCTCACTGAAGTATTCTTACACGTGCGCCCATTTTTAGTCGATCGTGGTCCGCGTGGCGGATTTTCCCGCGCCCAGATTGGAACCCCCTTTCAAATTAAAGAAGTTAGTACGGGTCGATTCAAAACGTATGGCCCACCACATTGTTCCTTTTGCTGAGGGGATAGGAAGAAATAGGATACCGTCACGTCAAATCTACAATTAATTTCGATCTAGACCCCGGTCTATGCCGCCTAGGCTAACTGCCGCACTGCAATCGGTTGTTTCTTTCCTGTCGTGCCGTGGGCCCCGGGAACACTGCAGTCCGCCCCGCCGTGTTTTCTTTTACTTTGGCGACATCGTATGCATTTATTAAAGAGTGAGGTGTCTGATGCCTAGCTCGTCGTCTTGCGCTCATTCAAATTATGGTGAGTGAGCTAATGCACAACTCTAGACCGTATATCGCTCTACTATTAAACTCCTCTTTCACGGTCTTACCCCCGCACAAACATAGTACCCTCTTGCTCGCGCCTCACAACGAGTGCCCCGCTTCATCATCCGAGCGTGAGGGTCAGAGGTGCTAAGGTAAGGGAGCGTGAAACCA\n"
     ]
    }
   ],
   "source": [
    "with open(dna_string_path, 'r') as file:\n",
    "    dna_string = file.read().strip()\n",
    "    revs_complement = reverse_complement(dna_string)\n",
    "    print(revs_complement)"
   ]
  },
  {
   "cell_type": "code",
   "execution_count": null,
   "id": "2ce7403d",
   "metadata": {},
   "outputs": [],
   "source": []
  },
  {
   "cell_type": "markdown",
   "id": "edf91a9a",
   "metadata": {},
   "source": [
    "##### Method 02: Using Biopython's Seq module"
   ]
  },
  {
   "cell_type": "code",
   "execution_count": 19,
   "id": "4db69201",
   "metadata": {},
   "outputs": [
    {
     "name": "stdout",
     "output_type": "stream",
     "text": [
      "ACTCGCTATGCATAGATTACGGAACTCCTGTAACGGGGGTAACACTGGCACATCGTTGAACTCGAAGCTAACCCGGCTGATCGTTGGAGTCGACACTTTTGAGACCGACTGGATCACTCCTATGCATGTCCACTAACGCGTATCTACATACCTCATCATACTGTCAGAGGGTCAACGCCCCGCAGGCAAAAGCGTCTGAATCCATCTGCTGGAAAGAAGGTGTCGATTTGATACTGTGCGTTATGTTACAGCTAGAATGCCACAACCTCCCTAGGGCGGGGTGAGCAATGCCCTGTCATACCCTGGCAATCACGTGTAATTCTAAGACCCGGTAGCACCCTGTGACCTAGGCCAAAACGACATATCCCACCAAACGCCGGCTGTTAGGCGTAGAACCTCACTGAAGTATTCTTACACGTGCGCCCATTTTTAGTCGATCGTGGTCCGCGTGGCGGATTTTCCCGCGCCCAGATTGGAACCCCCTTTCAAATTAAAGAAGTTAGTACGGGTCGATTCAAAACGTATGGCCCACCACATTGTTCCTTTTGCTGAGGGGATAGGAAGAAATAGGATACCGTCACGTCAAATCTACAATTAATTTCGATCTAGACCCCGGTCTATGCCGCCTAGGCTAACTGCCGCACTGCAATCGGTTGTTTCTTTCCTGTCGTGCCGTGGGCCCCGGGAACACTGCAGTCCGCCCCGCCGTGTTTTCTTTTACTTTGGCGACATCGTATGCATTTATTAAAGAGTGAGGTGTCTGATGCCTAGCTCGTCGTCTTGCGCTCATTCAAATTATGGTGAGTGAGCTAATGCACAACTCTAGACCGTATATCGCTCTACTATTAAACTCCTCTTTCACGGTCTTACCCCCGCACAAACATAGTACCCTCTTGCTCGCGCCTCACAACGAGTGCCCCGCTTCATCATCCGAGCGTGAGGGTCAGAGGTGCTAAGGTAAGGGAGCGTGAAACCA\n"
     ]
    }
   ],
   "source": [
    "with open(dna_string_path, 'r') as file:\n",
    "    dna_string = file.read().strip()\n",
    "    dna_seq = Seq(dna_string)\n",
    "    reverse_complement = dna_seq.reverse_complement()\n",
    "    print(reverse_complement)"
   ]
  },
  {
   "cell_type": "code",
   "execution_count": null,
   "id": "2b32b9c5",
   "metadata": {},
   "outputs": [],
   "source": []
  }
 ],
 "metadata": {
  "kernelspec": {
   "display_name": "Python 3 (ipykernel)",
   "language": "python",
   "name": "python3"
  },
  "language_info": {
   "codemirror_mode": {
    "name": "ipython",
    "version": 3
   },
   "file_extension": ".py",
   "mimetype": "text/x-python",
   "name": "python",
   "nbconvert_exporter": "python",
   "pygments_lexer": "ipython3",
   "version": "3.11.5"
  }
 },
 "nbformat": 4,
 "nbformat_minor": 5
}
