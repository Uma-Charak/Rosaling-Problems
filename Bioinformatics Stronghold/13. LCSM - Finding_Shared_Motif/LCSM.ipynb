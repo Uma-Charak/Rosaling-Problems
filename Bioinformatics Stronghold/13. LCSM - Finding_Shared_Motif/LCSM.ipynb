{
 "cells": [
  {
   "cell_type": "markdown",
   "metadata": {},
   "source": [
    "### Finding Longest Common Substring\n",
    "\n",
    "**Problem:**\n",
    "A common substring of a collection of strings is a substring of every member of the collection. We say that a common substring is a longest common substring if there does not exist a longer common substring. For example, \"CG\" is a common substring of \"A***CG***TACGT\" and \"AAC***CG***TATA\", but it is not as long as possible; in this case, \"CGTA\" is a longest common substring of \"A***CGTA***CGT\" and \"AAC***CGTA***TA\".\n",
    "\n",
    "Note that the longest common substring is not necessarily unique; for a simple example, \"AA\" and \"CC\" are both longest common substrings of \"AACC\" and \"CCAA\".\n",
    "\n",
    "**Given:** A collection of ***k (k≤100)*** DNA strings of length at most 1 kbp each in FASTA format.\n",
    "\n",
    "**Return:** A longest common substring of the collection. (If multiple solutions exist, you may return any single solution.)"
   ]
  },
  {
   "cell_type": "code",
   "execution_count": 1,
   "metadata": {},
   "outputs": [],
   "source": [
    "# Import relevant libraries\n",
    "\n",
    "from Bio.Seq import Seq\n",
    "from Bio import SeqIO"
   ]
  },
  {
   "cell_type": "code",
   "execution_count": 8,
   "metadata": {
    "execution": {
     "iopub.execute_input": "2024-11-14T06:35:15.659978Z",
     "iopub.status.busy": "2024-11-14T06:35:15.659461Z",
     "iopub.status.idle": "2024-11-14T06:35:15.667101Z",
     "shell.execute_reply": "2024-11-14T06:35:15.665721Z",
     "shell.execute_reply.started": "2024-11-14T06:35:15.659933Z"
    }
   },
   "outputs": [],
   "source": [
    "# Function to read sequences from a FASTA file\n",
    "\n",
    "def read_fasta(file_path):\n",
    "    '''\n",
    "    Reads sequences from a given FASTA file\n",
    "    '''\n",
    "    sequences = []\n",
    "    for record in SeqIO.parse(file_path, \"fasta\"):\n",
    "        sequences.append(record.seq)\n",
    "    return sequences\n",
    "\n",
    "\n",
    "def longest_common_substring(sequences):\n",
    "    # Convert sequences to strings in case they are Biopython Seq objects\n",
    "    sequences = [str(seq) for seq in sequences]\n",
    "    \n",
    "    # Start with the shortest sequence as the base for comparisons\n",
    "    shortest_seq = min(sequences, key=len)\n",
    "    length = len(shortest_seq)\n",
    "    \n",
    "    # Set to store all longest common substrings found\n",
    "    longest_substrs = set()\n",
    "    max_length = 0\n",
    "    \n",
    "    # Check all substrings of the shortest sequence from longest to shortest\n",
    "    for i in range(length):\n",
    "        for j in range(i + 1, length + 1):\n",
    "            candidate = shortest_seq[i:j]\n",
    "            \n",
    "            # Check if this candidate substring is in all sequences\n",
    "            if all(candidate in seq for seq in sequences):\n",
    "                candidate_length = len(candidate)\n",
    "                \n",
    "                # If a longer substring is found, update max_length and reset the set\n",
    "                if candidate_length > max_length:\n",
    "                    max_length = candidate_length\n",
    "                    longest_substrs = {candidate}\n",
    "                # If another substring of the same maximum length is found, add it to the set\n",
    "                elif candidate_length == max_length:\n",
    "                    longest_substrs.add(candidate)\n",
    "    \n",
    "    return list(longest_substrs)"
   ]
  },
  {
   "cell_type": "code",
   "execution_count": 12,
   "metadata": {},
   "outputs": [],
   "source": [
    "# File path to input FASTA file\n",
    "\n",
    "filePath = 'problem13_input.fasta'"
   ]
  },
  {
   "cell_type": "code",
   "execution_count": 14,
   "metadata": {
    "execution": {
     "iopub.execute_input": "2024-11-14T06:36:31.629384Z",
     "iopub.status.busy": "2024-11-14T06:36:31.628938Z",
     "iopub.status.idle": "2024-11-14T06:36:36.029288Z",
     "shell.execute_reply": "2024-11-14T06:36:36.027833Z",
     "shell.execute_reply.started": "2024-11-14T06:36:31.629342Z"
    }
   },
   "outputs": [
    {
     "data": {
      "text/plain": [
       "['ATATCTGATGAGCATTGTTGACATTTCGGAGCATTGCTGTTGATAAGCCTGGGCTGTATCGCAAAATCTGTCCCAGGCCTGTAACAGGGGTAGGCCTACTCACCTCATAGTCCCTTGCGTGGCGTTCCCGTGGAGGAACACGTGTCTCACGCATTATTTTAGGACTTCCACTACTTATCTACAGCAGAATCGCCCGTACATATGTGATGGTTCCGAGCTTCCTGTCGCGAGAAACGAATTACAACTACTACGCACTTTAGTCAGATTGCTTAAGAGAATGCGACAGAAAGCC']"
      ]
     },
     "execution_count": 14,
     "metadata": {},
     "output_type": "execute_result"
    }
   ],
   "source": [
    "# Call functions and output longest shared motif\n",
    "\n",
    "sequences = read_fasta(filePath)\n",
    "print(longest_common_substring(sequences))"
   ]
  }
 ],
 "metadata": {
  "kaggle": {
   "accelerator": "none",
   "dataSources": [
    {
     "datasetId": 6082835,
     "sourceId": 9901968,
     "sourceType": "datasetVersion"
    }
   ],
   "dockerImageVersionId": 30786,
   "isGpuEnabled": false,
   "isInternetEnabled": true,
   "language": "python",
   "sourceType": "notebook"
  },
  "kernelspec": {
   "display_name": "Python 3 (ipykernel)",
   "language": "python",
   "name": "python3"
  },
  "language_info": {
   "codemirror_mode": {
    "name": "ipython",
    "version": 3
   },
   "file_extension": ".py",
   "mimetype": "text/x-python",
   "name": "python",
   "nbconvert_exporter": "python",
   "pygments_lexer": "ipython3",
   "version": "3.11.5"
  }
 },
 "nbformat": 4,
 "nbformat_minor": 4
}
