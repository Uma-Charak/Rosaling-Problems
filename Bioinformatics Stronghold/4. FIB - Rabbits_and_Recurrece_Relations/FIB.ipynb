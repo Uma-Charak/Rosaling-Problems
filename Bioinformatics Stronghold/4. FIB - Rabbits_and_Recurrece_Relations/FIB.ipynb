{
 "cells": [
  {
   "cell_type": "markdown",
   "id": "c6e1284c",
   "metadata": {},
   "source": [
    "### Rabbits and Recurrence Relations\n",
    "\n",
    "**Problem**\n",
    "A sequence is an ordered collection of objects (usually numbers), which are allowed to repeat. Sequences can be finite or infinite. Two examples are the finite sequence ***(π,−2–√,0,π)*** and the infinite sequence of odd numbers ***(1,3,5,7,9,…)***. We use the notation ***a<sub>n</sub>*** to represent the ***n-th*** term of a sequence.\n",
    "\n",
    "A recurrence relation is a way of defining the terms of a sequence with respect to the values of previous terms. In the case of Fibonacci's rabbits from the introduction, any given month will contain the rabbits that were alive the previous month, plus any new offspring. A key observation is that the number of offspring in any month is equal to the number of rabbits that were alive two months prior. As a result, if ***F<sub>n</sub>*** represents the number of rabbit pairs alive after the ***n-th*** month, then we obtain the Fibonacci sequence having terms ***F<sub>n</sub>*** that are defined by the recurrence relation ***F<sub>n</sub> = F<sub>n-1</sub> + F<sub>n-2</sub>*** (with ***F<sub>1</sub> = F<sub>2</sub> = 1*** to initiate the sequence). Although the sequence bears Fibonacci's name, it was known to Indian mathematicians over two millennia ago.\n",
    "\n",
    "When finding the ***n-th*** term of a sequence defined by a recurrence relation, we can simply use the recurrence relation to generate terms for progressively larger values of ***n***. This problem introduces us to the computational technique of dynamic programming, which successively builds up solutions by using the answers to smaller cases.\n",
    "\n",
    "**Given**: Positive integers ***n≤40*** and ***k≤5***.\n",
    "\n",
    "**Return**: The total number of rabbit pairs that will be present after ***n*** months, if we begin with 1 pair and in each generation, every pair of reproduction-age rabbits produces a litter of ***k*** rabbit pairs (instead of only 1 pair).\n"
   ]
  },
  {
   "cell_type": "code",
   "execution_count": 20,
   "id": "a5e71123",
   "metadata": {},
   "outputs": [],
   "source": [
    "# Function Definition\n",
    "\n",
    "def rabbit_pairs(params):\n",
    "    '''\n",
    "    Calculates the total number of rabbit pairs after `n` months.\n",
    "    '''\n",
    "    n, k = params\n",
    "    \n",
    "    if n==1:\n",
    "        return 1\n",
    "    \n",
    "    # Initialize a list to store the number of pairs for each month\n",
    "    pairs = [0] * (n + 1)\n",
    "    pairs[1] = 1  # Month 1: 1 pair\n",
    "    pairs[2] = 1  # Month 2: still 1 pair, not mature enough to reproduce\n",
    "\n",
    "    # Calculate the number of pairs for each month using the recurrence relation\n",
    "    for month in range(3, n + 1):\n",
    "        pairs[month] = pairs[month - 1] + k * pairs[month - 2]\n",
    "    \n",
    "    return pairs[n]"
   ]
  },
  {
   "cell_type": "code",
   "execution_count": 27,
   "id": "9de8393e",
   "metadata": {},
   "outputs": [],
   "source": [
    "# File reading\n",
    "integer_file = 'problem4_input.txt'\n",
    "\n",
    "with open(integer_file, 'r') as file:\n",
    "    integers = list(map(int, file.read().strip().split()))"
   ]
  },
  {
   "cell_type": "code",
   "execution_count": 28,
   "id": "22322d19",
   "metadata": {},
   "outputs": [
    {
     "name": "stdout",
     "output_type": "stream",
     "text": [
      "3048504677680\n"
     ]
    }
   ],
   "source": [
    "# Output the result\n",
    "result = rabbit_pairs(integers)\n",
    "print(result)"
   ]
  },
  {
   "cell_type": "code",
   "execution_count": null,
   "id": "c7f896c4",
   "metadata": {},
   "outputs": [],
   "source": []
  },
  {
   "cell_type": "code",
   "execution_count": null,
   "id": "7d3c6834",
   "metadata": {},
   "outputs": [],
   "source": []
  }
 ],
 "metadata": {
  "kernelspec": {
   "display_name": "Python 3 (ipykernel)",
   "language": "python",
   "name": "python3"
  },
  "language_info": {
   "codemirror_mode": {
    "name": "ipython",
    "version": 3
   },
   "file_extension": ".py",
   "mimetype": "text/x-python",
   "name": "python",
   "nbconvert_exporter": "python",
   "pygments_lexer": "ipython3",
   "version": "3.11.5"
  }
 },
 "nbformat": 4,
 "nbformat_minor": 5
}
