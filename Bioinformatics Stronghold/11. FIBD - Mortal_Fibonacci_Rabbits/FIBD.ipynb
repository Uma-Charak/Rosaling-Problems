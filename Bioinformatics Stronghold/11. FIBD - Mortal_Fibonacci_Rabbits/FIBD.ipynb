{
 "cells": [
  {
   "cell_type": "markdown",
   "id": "f2754498",
   "metadata": {},
   "source": [
    "### Calculating Mortal Fibonacci Rabbits\n",
    "\n",
    "![alt text](mortal_rabbit_tree.thumb.png)\n",
    "\n",
    "**Figure:** A figure illustrating the propagation of Fibonacci's rabbits if they die after three months.\n",
    "\n",
    "**Problem:**\n",
    "The Fibonacci numbers follow the recurrence relation ***F<sub>n</sub> = F<sub>n−1</sub> + F<sub>n−2</sub>*** and assume that each pair of rabbits reaches maturity in one month and produces a single pair of offspring (one male, one female) each subsequent month.\n",
    "\n",
    "Our aim is to somehow modify this recurrence relation to achieve a dynamic programming solution in the case that all rabbits die out after a fixed number of months. See Figure for a depiction of a rabbit tree in which rabbits live for three months meaning that they reproduce only twice before dying).\n",
    "\n",
    "**Given:** Positive integers ***n≤100*** and ***m≤20***.\n",
    "\n",
    "**Return:** The total number of pairs of rabbits that will remain after the ***n-th*** month if all rabbits live for m months."
   ]
  },
  {
   "cell_type": "code",
   "execution_count": 6,
   "id": "154c0e81",
   "metadata": {},
   "outputs": [],
   "source": [
    "# Function Definition\n",
    "\n",
    "def mortal_fibonacci_rabbits(n, m):\n",
    "    '''\n",
    "    Calculates the total number of rabbit pairs that remain after n months \n",
    "    if all rabbits die after m months.\n",
    "    '''\n",
    "    \n",
    "    # Initialize a list to store the number of rabbit pairs alive at each month\n",
    "    rabbits = [0] * (n + 1)\n",
    "    \n",
    "    # Base case: In the first month, we start with 1 pair\n",
    "    rabbits[1] = 1\n",
    "    \n",
    "    # Iterate over each month to calculate the number of rabbit pairs\n",
    "    for month in range(2, n + 1):\n",
    "        # Newborn pairs are the sum of all rabbits from the previous months that are still alive and can reproduce\n",
    "        rabbits[month] = sum(rabbits[max(0, month - m): month - 1])\n",
    "    \n",
    "    # Total rabbit pairs alive after n months\n",
    "    return sum(rabbits[max(0, n - m + 1): n + 1])"
   ]
  },
  {
   "cell_type": "code",
   "execution_count": 5,
   "id": "b4ff3b29",
   "metadata": {},
   "outputs": [
    {
     "name": "stdout",
     "output_type": "stream",
     "text": [
      "7523674569286302867\n"
     ]
    }
   ],
   "source": [
    "# File path and function implementation\n",
    "\n",
    "integer_file = 'problem11_input.txt'\n",
    "\n",
    "with open(integer_file, 'r') as file:\n",
    "    data = list(map(int, file.read().strip().split()))\n",
    "    integer1, integer2 = data\n",
    "    \n",
    "print(mortal_fibonacci_rabbits(integer1,integer2))"
   ]
  }
 ],
 "metadata": {
  "kernelspec": {
   "display_name": "Python 3 (ipykernel)",
   "language": "python",
   "name": "python3"
  },
  "language_info": {
   "codemirror_mode": {
    "name": "ipython",
    "version": 3
   },
   "file_extension": ".py",
   "mimetype": "text/x-python",
   "name": "python",
   "nbconvert_exporter": "python",
   "pygments_lexer": "ipython3",
   "version": "3.11.5"
  }
 },
 "nbformat": 4,
 "nbformat_minor": 5
}
